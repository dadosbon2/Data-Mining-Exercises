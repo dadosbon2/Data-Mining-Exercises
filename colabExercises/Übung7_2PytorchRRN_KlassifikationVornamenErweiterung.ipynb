{
  "cells": [
    {
      "cell_type": "code",
      "execution_count": 7,
      "metadata": {
        "id": "ZCgrH8tnTBLB"
      },
      "outputs": [],
      "source": [
        "# For tips on running notebooks in Google Colab, see\n",
        "# https://pytorch.org/tutorials/beginner/colab\n",
        "%matplotlib inline"
      ]
    },
    {
      "cell_type": "markdown",
      "metadata": {
        "id": "xLOTUMbuTBLB"
      },
      "source": [
        "NLP From Scratch: Classifying Names with a Character-Level RNN\n",
        "==============================================================\n",
        "\n",
        "**Author**: [Sean Robertson](https://github.com/spro)\n",
        "\n",
        "This tutorials is part of a three-part series:\n",
        "\n",
        "-   [NLP From Scratch: Classifying Names with a Character-Level\n",
        "    RNN](https://pytorch.org/tutorials/intermediate/char_rnn_classification_tutorial.html)\n",
        "-   [NLP From Scratch: Generating Names with a Character-Level\n",
        "    RNN](https://pytorch.org/tutorials/intermediate/char_rnn_generation_tutorial.html)\n",
        "-   [NLP From Scratch: Translation with a Sequence to Sequence Network\n",
        "    and\n",
        "    Attention](https://pytorch.org/tutorials/intermediate/seq2seq_translation_tutorial.html)\n",
        "\n",
        "We will be building and training a basic character-level Recurrent\n",
        "Neural Network (RNN) to classify words. This tutorial, along with two\n",
        "other Natural Language Processing (NLP) \\\"from scratch\\\" tutorials\n",
        "`/intermediate/char_rnn_generation_tutorial`{.interpreted-text\n",
        "role=\"doc\"} and\n",
        "`/intermediate/seq2seq_translation_tutorial`{.interpreted-text\n",
        "role=\"doc\"}, show how to preprocess data to model NLP. In particular,\n",
        "these tutorials show how preprocessing to model NLP works at a low\n",
        "level.\n",
        "\n",
        "A character-level RNN reads words as a series of characters -outputting\n",
        "a prediction and \\\"hidden state\\\" at each step, feeding its previous\n",
        "hidden state into each next step. We take the final prediction to be the\n",
        "output, i.e. which class the word belongs to.\n",
        "\n",
        "Specifically, we\\'ll train on a few thousand surnames from 18 languages\n",
        "of origin, and predict which language a name is from based on the\n",
        "spelling:\n",
        "\n",
        "``` {.sh}\n",
        "$ python predict.py Hinton\n",
        "(-0.47) Scottish\n",
        "(-1.52) English\n",
        "(-3.57) Irish\n",
        "\n",
        "$ python predict.py Schmidhuber\n",
        "(-0.19) German\n",
        "(-2.48) Czech\n",
        "(-2.68) Dutch\n",
        "```\n",
        "\n",
        "Recommended Preparation\n",
        "-----------------------\n",
        "\n",
        "Before starting this tutorial it is recommended that you have installed\n",
        "PyTorch, and have a basic understanding of Python programming language\n",
        "and Tensors:\n",
        "\n",
        "-   <https://pytorch.org/> For installation instructions\n",
        "-   `/beginner/deep_learning_60min_blitz`{.interpreted-text role=\"doc\"}\n",
        "    to get started with PyTorch in general and learn the basics of\n",
        "    Tensors\n",
        "-   `/beginner/pytorch_with_examples`{.interpreted-text role=\"doc\"} for\n",
        "    a wide and deep overview\n",
        "-   `/beginner/former_torchies_tutorial`{.interpreted-text role=\"doc\"}\n",
        "    if you are former Lua Torch user\n",
        "\n",
        "It would also be useful to know about RNNs and how they work:\n",
        "\n",
        "-   [The Unreasonable Effectiveness of Recurrent Neural\n",
        "    Networks](https://karpathy.github.io/2015/05/21/rnn-effectiveness/)\n",
        "    shows a bunch of real life examples\n",
        "-   [Understanding LSTM\n",
        "    Networks](https://colah.github.io/posts/2015-08-Understanding-LSTMs/)\n",
        "    is about LSTMs specifically but also informative about RNNs in\n",
        "    general\n",
        "\n",
        "Preparing the Data\n",
        "------------------\n",
        "\n",
        "<div style=\"background-color: #54c7ec; color: #fff; font-weight: 700; padding-left: 10px; padding-top: 5px; padding-bottom: 5px\"><strong>NOTE:</strong></div>\n",
        "\n",
        "<div style=\"background-color: #f3f4f7; padding-left: 10px; padding-top: 10px; padding-bottom: 10px; padding-right: 10px\">\n",
        "\n",
        "<p>Download the data from<a href=\"https://download.pytorch.org/tutorial/data.zip\">here</a>and extract it to the current directory.</p>\n",
        "\n",
        "</div>\n",
        "\n",
        "Included in the `data/names` directory are 18 text files named as\n",
        "`[Language].txt`. Each file contains a bunch of names, one name per\n",
        "line, mostly romanized (but we still need to convert from Unicode to\n",
        "ASCII).\n",
        "\n",
        "We\\'ll end up with a dictionary of lists of names per language,\n",
        "`{language: [names ...]}`. The generic variables \\\"category\\\" and\n",
        "\\\"line\\\" (for language and name in our case) are used for later\n",
        "extensibility.\n"
      ]
    },
    {
      "cell_type": "code",
      "execution_count": 8,
      "metadata": {
        "id": "-Pm2u124TBLC",
        "outputId": "e04b9b03-e13a-4b0e-dcf1-1b93eb4a7b96",
        "colab": {
          "base_uri": "https://localhost:8080/"
        }
      },
      "outputs": [
        {
          "output_type": "stream",
          "name": "stdout",
          "text": [
            "['data/names/Spanish.txt', 'data/names/Scottish.txt', 'data/names/Chinese.txt', 'data/names/English.txt', 'data/names/Vietnamese.txt', 'data/names/Russian.txt', 'data/names/French.txt', 'data/names/German.txt', 'data/names/Portuguese.txt', 'data/names/Irish.txt', 'data/names/Dutch.txt', 'data/names/Italian.txt', 'data/names/Czech.txt', 'data/names/Polish.txt', 'data/names/Japanese.txt', 'data/names/Greek.txt', 'data/names/Arabic.txt', 'data/names/Korean.txt']\n",
            "Slusarski\n",
            "18\n"
          ]
        }
      ],
      "source": [
        "from io import open\n",
        "import glob\n",
        "import os\n",
        "\n",
        "#open function from the io module, making reading and writing files simpler\n",
        "#glob allow us to find files with the extension .txt in the \"data\" directory/folder\n",
        "#os  is a  module that interact with the operating system: it navigates directories, check the existence of files, can edit file paths\n",
        "\n",
        "def findFiles(path): return glob.glob(path)\n",
        "#this function returns a list of filepaths that match the pattern\n",
        "print(findFiles('data/names/*.txt'))\n",
        "#This prints the list of filepaths\n",
        "\n",
        "import unicodedata\n",
        "import string\n",
        "#two modules used for string manipulation and unicode transformation of characters\n",
        "\n",
        "\n",
        "all_letters = string.ascii_letters + \" .,;'\"\n",
        "n_letters = len(all_letters)\n",
        "\n",
        "# Turn a Unicode string to plain ASCII, thanks to https://stackoverflow.com/a/518232/2809427\n",
        "def unicodeToAscii(s):\n",
        "    return ''.join(\n",
        "        c for c in unicodedata.normalize('NFD', s)\n",
        "        if unicodedata.category(c) != 'Mn'\n",
        "        and c in all_letters\n",
        "    )\n",
        "\n",
        "print(unicodeToAscii('Ślusàrski'))\n",
        "\n",
        "# Build the category_lines dictionary, a list of names per language\n",
        "category_lines = {} #list of names per language\n",
        "all_categories = [] #list of languages handled by the algorithm\n",
        "\n",
        "# Read a file and split into lines\n",
        "def readLines(filename):\n",
        "    lines = open(filename, encoding='utf-8').read().strip().split('\\n')\n",
        "    return [unicodeToAscii(line) for line in lines]\n",
        "\n",
        "for filename in findFiles('data/names/*.txt'):\n",
        "    category = os.path.splitext(os.path.basename(filename))[0]\n",
        "    all_categories.append(category)\n",
        "    lines = readLines(filename) #ädd language to the list\n",
        "    category_lines[category] = lines #add names to the langauges list, technically called dictionary\n",
        "\n",
        "n_categories = len(all_categories)\n",
        "print(n_categories)"
      ]
    },
    {
      "cell_type": "markdown",
      "metadata": {
        "id": "d10uFS4LTBLD"
      },
      "source": [
        "Now we have `category_lines`, a dictionary mapping each category\n",
        "(language) to a list of lines (names). We also kept track of\n",
        "`all_categories` (just a list of languages) and `n_categories` for later\n",
        "reference.\n"
      ]
    },
    {
      "cell_type": "code",
      "execution_count": 9,
      "metadata": {
        "id": "04bs5QPTTBLD",
        "outputId": "3e760291-66e4-427e-c25a-8b7e2ca8757b",
        "colab": {
          "base_uri": "https://localhost:8080/"
        }
      },
      "outputs": [
        {
          "output_type": "stream",
          "name": "stdout",
          "text": [
            "['Abandonato', 'Abatangelo', 'Abatantuono', 'Abate', 'Abategiovanni']\n"
          ]
        }
      ],
      "source": [
        "print(category_lines['Italian'][:5])"
      ]
    },
    {
      "cell_type": "markdown",
      "metadata": {
        "id": "S14QhV21TBLD"
      },
      "source": [
        "Turning Names into Tensors\n",
        "==========================\n",
        "\n",
        "Now that we have all the names organized, we need to turn them into\n",
        "Tensors to make any use of them.\n",
        "\n",
        "To represent a single letter, we use a \\\"one-hot vector\\\" of size\n",
        "`<1 x n_letters>`. A one-hot vector is filled with 0s except for a 1 at\n",
        "index of the current letter, e.g. `\"b\" = <0 1 0 0 0 ...>`.\n",
        "\n",
        "To make a word we join a bunch of those into a 2D matrix\n",
        "`<line_length x 1 x n_letters>`.\n",
        "\n",
        "That extra 1 dimension is because PyTorch assumes everything is in\n",
        "batches - we\\'re just using a batch size of 1 here.\n"
      ]
    },
    {
      "cell_type": "code",
      "execution_count": 10,
      "metadata": {
        "id": "7U9yXO5eTBLE",
        "outputId": "5be2a6be-551d-4773-f57e-ee91dcf4711d",
        "colab": {
          "base_uri": "https://localhost:8080/"
        }
      },
      "outputs": [
        {
          "output_type": "stream",
          "name": "stdout",
          "text": [
            "tensor([[0., 0., 0., 0., 0., 0., 0., 0., 0., 0., 0., 0., 0., 0., 0., 0., 0., 0.,\n",
            "         0., 0., 0., 0., 0., 0., 0., 0., 0., 0., 0., 0., 0., 0., 0., 0., 0., 1.,\n",
            "         0., 0., 0., 0., 0., 0., 0., 0., 0., 0., 0., 0., 0., 0., 0., 0., 0., 0.,\n",
            "         0., 0., 0.]])\n",
            "torch.Size([5, 1, 57])\n"
          ]
        }
      ],
      "source": [
        "import torch\n",
        "#module that let us do operations using Tensors\n",
        "\n",
        "# Find letter index from all_letters, e.g. \"a\" = 0\n",
        "def letterToIndex(letter):\n",
        "    return all_letters.find(letter) #it gives back the position of the letter\n",
        "\n",
        "# Just for demonstration, turn a letter into a <1 x n_letters> Tensor\n",
        "def letterToTensor(letter):\n",
        "    tensor = torch.zeros(1, n_letters) #Initialize a tensor of shape 1, n_letters\n",
        "    tensor[0][letterToIndex(letter)] = 1\n",
        "    return tensor\n",
        "\n",
        "# Turn a line into a <line_length x 1 x n_letters>,\n",
        "# or an array of one-hot letter vectors\n",
        "def lineToTensor(line):\n",
        "    tensor = torch.zeros(len(line), 1, n_letters) # Initialize a zero tensor for the entire\n",
        "    for li, letter in enumerate(line): #Loop through each letter in line\n",
        "        tensor[li][0][letterToIndex(letter)] = 1\n",
        "    return tensor\n",
        "\n",
        "print(letterToTensor('J'))\n",
        "\n",
        "print(lineToTensor('Jones').size())"
      ]
    },
    {
      "cell_type": "markdown",
      "metadata": {
        "id": "hVvr1P2hTBLE"
      },
      "source": [
        "Creating the Network\n",
        "====================\n",
        "\n",
        "Before autograd, creating a recurrent neural network in Torch involved\n",
        "cloning the parameters of a layer over several timesteps. The layers\n",
        "held hidden state and gradients which are now entirely handled by the\n",
        "graph itself. This means you can implement a RNN in a very \\\"pure\\\" way,\n",
        "as regular feed-forward layers.\n",
        "\n",
        "This RNN module implements a \\\"vanilla RNN\\\" an is just 3 linear layers\n",
        "which operate on an input and hidden state, with a `LogSoftmax` layer\n",
        "after the output.\n"
      ]
    },
    {
      "cell_type": "code",
      "execution_count": 11,
      "metadata": {
        "id": "Fyed6ectTBLE"
      },
      "outputs": [],
      "source": [
        "import torch.nn as nn\n",
        "import torch.nn.functional as F\n",
        "\n",
        "class RNN(nn.Module):   #Here the RNN class is defined\n",
        "    def __init__(self, input_size, hidden_size, output_size): #base class (nn.Module) constructor\n",
        "        super(RNN, self).__init__()\n",
        "\n",
        "        self.hidden_size = hidden_size #Here it is possible to set the size of hidden layers\n",
        "\n",
        "        self.i2h = nn.Linear(input_size, hidden_size) # Maps inputs to hidden state\n",
        "        self.h2h = nn.Linear(hidden_size, hidden_size)# recurrent conectionces between hidden states(here comes the idea of neuronal network)\n",
        "        self.h2o = nn.Linear(hidden_size, output_size)# maps hidden state to output\n",
        "        self.softmax = nn.LogSoftmax(dim=1)# activation function is log-softmax for the output for classification probabilities\n",
        "\n",
        "    def forward(self, input, hidden): #Forward pass\n",
        "        hidden = F.tanh(self.i2h(input) + self.h2h(hidden))\n",
        "        output = self.h2o(hidden)\n",
        "        output = self.softmax(output)\n",
        "        return output, hidden # returns output and new hidden state\n",
        "\n",
        "    def initHidden(self): #Initialize the hidden state to zero\n",
        "        return torch.zeros(1, self.hidden_size)\n",
        "\n",
        "n_hidden = 128\n",
        "rnn = RNN(n_letters, n_hidden, n_categories)"
      ]
    },
    {
      "cell_type": "markdown",
      "metadata": {
        "id": "UFFJrFaQTBLF"
      },
      "source": [
        "To run a step of this network we need to pass an input (in our case, the\n",
        "Tensor for the current letter) and a previous hidden state (which we\n",
        "initialize as zeros at first). We\\'ll get back the output (probability\n",
        "of each language) and a next hidden state (which we keep for the next\n",
        "step).\n"
      ]
    },
    {
      "cell_type": "code",
      "execution_count": 12,
      "metadata": {
        "id": "Tgzf1frxTBLF"
      },
      "outputs": [],
      "source": [
        "input = letterToTensor('A')\n",
        "hidden = torch.zeros(1, n_hidden)\n",
        "\n",
        "output, next_hidden = rnn(input, hidden)\n",
        "\n",
        "#This is the representation of a single step in the RNN for letter A, for the rest\n",
        "#of the name, this process would be repeated for each letter, so next_hidden would be the next letter."
      ]
    },
    {
      "cell_type": "markdown",
      "metadata": {
        "id": "MCSsL1waTBLF"
      },
      "source": [
        "For the sake of efficiency we don\\'t want to be creating a new Tensor\n",
        "for every step, so we will use `lineToTensor` instead of\n",
        "`letterToTensor` and use slices. This could be further optimized by\n",
        "precomputing batches of Tensors.\n"
      ]
    },
    {
      "cell_type": "code",
      "execution_count": 13,
      "metadata": {
        "id": "GrOyodzITBLF",
        "outputId": "f03aef38-9702-4911-8a71-0ccde765972e",
        "colab": {
          "base_uri": "https://localhost:8080/"
        }
      },
      "outputs": [
        {
          "output_type": "stream",
          "name": "stdout",
          "text": [
            "tensor([[-2.7812, -2.8908, -2.9109, -2.8170, -2.8450, -2.8424, -3.0461, -2.8599,\n",
            "         -2.8624, -2.9785, -2.9244, -2.9477, -2.9376, -2.8345, -2.8342, -2.9530,\n",
            "         -2.9220, -2.8756]], grad_fn=<LogSoftmaxBackward0>)\n"
          ]
        }
      ],
      "source": [
        "input = lineToTensor('Albert')\n",
        "hidden = torch.zeros(1, n_hidden)\n",
        "\n",
        "output, next_hidden = rnn(input[0], hidden)\n",
        "print(output)"
      ]
    },
    {
      "cell_type": "markdown",
      "metadata": {
        "id": "KlCNBR8JTBLF"
      },
      "source": [
        "As you can see the output is a `<1 x n_categories>` Tensor, where every\n",
        "item is the likelihood of that category (higher is more likely).\n"
      ]
    },
    {
      "cell_type": "markdown",
      "metadata": {
        "id": "Gk97abwaTBLF"
      },
      "source": [
        "Training\n",
        "========\n",
        "\n",
        "Preparing for Training\n",
        "----------------------\n",
        "\n",
        "Before going into training we should make a few helper functions. The\n",
        "first is to interpret the output of the network, which we know to be a\n",
        "likelihood of each category. We can use `Tensor.topk` to get the index\n",
        "of the greatest value:\n"
      ]
    },
    {
      "cell_type": "code",
      "execution_count": 14,
      "metadata": {
        "id": "KxMM5qwuTBLG",
        "outputId": "be6b4796-6953-43bc-963e-dac859474e84",
        "colab": {
          "base_uri": "https://localhost:8080/"
        }
      },
      "outputs": [
        {
          "output_type": "stream",
          "name": "stdout",
          "text": [
            "('Spanish', 0)\n"
          ]
        }
      ],
      "source": [
        "def categoryFromOutput(output):\n",
        "    top_n, top_i = output.topk(1)\n",
        "    category_i = top_i[0].item()\n",
        "    return all_categories[category_i], category_i\n",
        "\n",
        "print(categoryFromOutput(output))"
      ]
    },
    {
      "cell_type": "markdown",
      "metadata": {
        "id": "yCmNydycTBLG"
      },
      "source": [
        "We will also want a quick way to get a training example (a name and its\n",
        "language):\n"
      ]
    },
    {
      "cell_type": "code",
      "execution_count": 15,
      "metadata": {
        "id": "DX2FBi_eTBLG",
        "outputId": "94b217d8-eac2-473d-a3bc-28836844f27f",
        "colab": {
          "base_uri": "https://localhost:8080/"
        }
      },
      "outputs": [
        {
          "output_type": "stream",
          "name": "stdout",
          "text": [
            "category = Chinese / line = Zhang\n",
            "category = Scottish / line = Macdonald\n",
            "category = French / line = Girard\n",
            "category = Czech / line = Osladil\n",
            "category = Italian / line = Falco\n",
            "category = Irish / line = Donoghue\n",
            "category = French / line = Renaud\n",
            "category = Russian / line = Ladyjensky\n",
            "category = French / line = Paget\n",
            "category = Dutch / line = Reynder\n"
          ]
        }
      ],
      "source": [
        "import random\n",
        "\n",
        "def randomChoice(l):\n",
        "    return l[random.randint(0, len(l) - 1)]\n",
        "\n",
        "def randomTrainingExample():\n",
        "    category = randomChoice(all_categories)\n",
        "    line = randomChoice(category_lines[category])\n",
        "    category_tensor = torch.tensor([all_categories.index(category)], dtype=torch.long)\n",
        "    line_tensor = lineToTensor(line)\n",
        "    return category, line, category_tensor, line_tensor\n",
        "\n",
        "for i in range(10):\n",
        "    category, line, category_tensor, line_tensor = randomTrainingExample()\n",
        "    print('category =', category, '/ line =', line)"
      ]
    },
    {
      "cell_type": "markdown",
      "metadata": {
        "id": "L6deDYiuTBLG"
      },
      "source": [
        "Training the Network\n",
        "====================\n",
        "\n",
        "Now all it takes to train this network is show it a bunch of examples,\n",
        "have it make guesses, and tell it if it\\'s wrong.\n",
        "\n",
        "For the loss function `nn.NLLLoss` is appropriate, since the last layer\n",
        "of the RNN is `nn.LogSoftmax`.\n"
      ]
    },
    {
      "cell_type": "code",
      "execution_count": 16,
      "metadata": {
        "id": "mQ09vVazTBLG"
      },
      "outputs": [],
      "source": [
        "criterion = nn.NLLLoss()"
      ]
    },
    {
      "cell_type": "markdown",
      "metadata": {
        "id": "dIMwEqMcTBLG"
      },
      "source": [
        "Each loop of training will:\n",
        "\n",
        "-   Create input and target tensors\n",
        "-   Create a zeroed initial hidden state\n",
        "-   Read each letter in and\n",
        "    -   Keep hidden state for next letter\n",
        "-   Compare final output to target\n",
        "-   Back-propagate\n",
        "-   Return the output and loss\n"
      ]
    },
    {
      "cell_type": "code",
      "execution_count": 17,
      "metadata": {
        "id": "z50_RUV6TBLG"
      },
      "outputs": [],
      "source": [
        "learning_rate = 0.005 # If you set this too high, it might explode. If too low, it might not learn\n",
        "\n",
        "def train(category_tensor, line_tensor):\n",
        "  #Initialze the hidden state for the RNN\n",
        "    hidden = rnn.initHidden()\n",
        "\n",
        "  # the gradients are brought back to zero from the previous backward pass\n",
        "    rnn.zero_grad()\n",
        "\n",
        "  #Loop through each character in the input line_tensor\n",
        "    for i in range(line_tensor.size()[0]):\n",
        "        output, hidden = rnn(line_tensor[i], hidden)\n",
        "\n",
        "    loss = criterion(output, category_tensor) # calculates the loss by comparing predicting output vs true categories\n",
        "\n",
        "    loss.backward() #backpropagation\n",
        "\n",
        "    # Add parameters' gradients to their values, multiplied by learning rate\n",
        "    for p in rnn.parameters():\n",
        "        p.data.add_(p.grad.data, alpha=-learning_rate)\n",
        "\n",
        "    return output, loss.item()"
      ]
    },
    {
      "cell_type": "markdown",
      "metadata": {
        "id": "ymg2aCJfTBLG"
      },
      "source": [
        "Now we just have to run that with a bunch of examples. Since the `train`\n",
        "function returns both the output and loss we can print its guesses and\n",
        "also keep track of loss for plotting. Since there are 1000s of examples\n",
        "we print only every `print_every` examples, and take an average of the\n",
        "loss.\n"
      ]
    },
    {
      "cell_type": "code",
      "execution_count": 18,
      "metadata": {
        "id": "B-9iu_ARTBLH",
        "outputId": "5a4be7bb-63fb-4bcd-9c57-47737f1aeac6",
        "colab": {
          "base_uri": "https://localhost:8080/"
        }
      },
      "outputs": [
        {
          "output_type": "stream",
          "name": "stdout",
          "text": [
            "5000 5% (0m 8s) 2.6890 Tyrrell / Irish ✗ (English)\n",
            "10000 10% (0m 15s) 3.2845 Jamussa / Polish ✗ (Greek)\n",
            "15000 15% (0m 24s) 0.9179 Luo / Chinese ✓\n",
            "20000 20% (0m 31s) 1.2245 Srour / Arabic ✓\n",
            "25000 25% (0m 40s) 2.9902 Segal / Czech ✗ (French)\n",
            "30000 30% (0m 48s) 0.6437 Siu / Chinese ✓\n",
            "35000 35% (0m 56s) 3.2055 Azzara / Spanish ✗ (Italian)\n",
            "40000 40% (1m 4s) 1.2043 Sutherland / Scottish ✓\n",
            "45000 45% (1m 13s) 0.1306 Bertsimas / Greek ✓\n",
            "50000 50% (1m 20s) 1.1505 Charpentier / French ✓\n",
            "55000 55% (1m 29s) 0.7205 Kan / Chinese ✓\n",
            "60000 60% (1m 37s) 1.4466 Pennington / Scottish ✗ (English)\n",
            "65000 65% (1m 44s) 0.3168 Liu / Chinese ✓\n",
            "70000 70% (1m 53s) 0.4608 Artizov / Russian ✓\n",
            "75000 75% (2m 1s) 0.0198 Koizumi / Japanese ✓\n",
            "80000 80% (2m 8s) 3.1722 Ashia / Arabic ✗ (Japanese)\n",
            "85000 85% (2m 17s) 1.8680 Manson / Scottish ✗ (English)\n",
            "90000 90% (2m 25s) 1.9529 Mayer / Arabic ✗ (German)\n",
            "95000 95% (2m 33s) 0.1195 Minatoya / Japanese ✓\n",
            "100000 100% (2m 42s) 0.0010 Agelakos / Greek ✓\n"
          ]
        }
      ],
      "source": [
        "import time\n",
        "import math\n",
        "\n",
        "n_iters = 100000\n",
        "print_every = 5000\n",
        "plot_every = 1000\n",
        "\n",
        "\n",
        "\n",
        "# Keep track of losses for plotting\n",
        "current_loss = 0\n",
        "all_losses = []\n",
        "\n",
        "def timeSince(since):\n",
        "    now = time.time()\n",
        "    s = now - since\n",
        "    m = math.floor(s / 60)\n",
        "    s -= m * 60\n",
        "    return '%dm %ds' % (m, s)\n",
        "\n",
        "start = time.time()\n",
        "\n",
        "for iter in range(1, n_iters + 1):\n",
        "    category, line, category_tensor, line_tensor = randomTrainingExample()\n",
        "    output, loss = train(category_tensor, line_tensor)\n",
        "    current_loss += loss\n",
        "\n",
        "    # Print ``iter`` number, loss, name and guess\n",
        "    if iter % print_every == 0:\n",
        "        guess, guess_i = categoryFromOutput(output)\n",
        "        correct = '✓' if guess == category else '✗ (%s)' % category\n",
        "        print('%d %d%% (%s) %.4f %s / %s %s' % (iter, iter / n_iters * 100, timeSince(start), loss, line, guess, correct))\n",
        "\n",
        "    # Add current loss avg to list of losses\n",
        "    if iter % plot_every == 0:\n",
        "        all_losses.append(current_loss / plot_every)\n",
        "        current_loss = 0"
      ]
    },
    {
      "cell_type": "markdown",
      "metadata": {
        "id": "ZhCBgMeOTBLH"
      },
      "source": [
        "Plotting the Results\n",
        "====================\n",
        "\n",
        "Plotting the historical loss from `all_losses` shows the network\n",
        "learning:\n"
      ]
    },
    {
      "cell_type": "code",
      "execution_count": 19,
      "metadata": {
        "id": "9QaBmFbeTBLH",
        "outputId": "4e4a02cc-749c-4a8d-ad39-5320dcb0c664",
        "colab": {
          "base_uri": "https://localhost:8080/",
          "height": 447
        }
      },
      "outputs": [
        {
          "output_type": "execute_result",
          "data": {
            "text/plain": [
              "[<matplotlib.lines.Line2D at 0x7fc8b693d150>]"
            ]
          },
          "metadata": {},
          "execution_count": 19
        },
        {
          "output_type": "display_data",
          "data": {
            "text/plain": [
              "<Figure size 640x480 with 1 Axes>"
            ],
            "image/png": "[encoded data removed]"
          },
          "metadata": {}
        }
      ],
      "source": [
        "import matplotlib.pyplot as plt\n",
        "import matplotlib.ticker as ticker\n",
        "\n",
        "plt.figure()\n",
        "plt.plot(all_losses)\n",
        "#As we can see the plot as trend to decrease over time, this is due the model perfomance improving\n",
        "#meaning less mistakes are  being done/Algorithm is learning"
      ]
    },
    {
      "cell_type": "markdown",
      "metadata": {
        "id": "_AV6JqONTBLH"
      },
      "source": [
        "Evaluating the Results\n",
        "======================\n",
        "\n",
        "To see how well the network performs on different categories, we will\n",
        "create a confusion matrix, indicating for every actual language (rows)\n",
        "which language the network guesses (columns). To calculate the confusion\n",
        "matrix a bunch of samples are run through the network with `evaluate()`,\n",
        "which is the same as `train()` minus the backprop.\n"
      ]
    },
    {
      "cell_type": "code",
      "execution_count": 20,
      "metadata": {
        "id": "VvXSwc9KTBLH",
        "outputId": "8d69d0d0-40ae-4819-d8c5-b609fc780025",
        "colab": {
          "base_uri": "https://localhost:8080/",
          "height": 575
        }
      },
      "outputs": [
        {
          "output_type": "stream",
          "name": "stderr",
          "text": [
            "<ipython-input-20-1c4b9dd31c42>:33: UserWarning: set_ticklabels() should only be used with a fixed number of ticks, i.e. after set_ticks() or using a FixedLocator.\n",
            "  ax.set_xticklabels([''] + all_categories, rotation=90)\n",
            "<ipython-input-20-1c4b9dd31c42>:34: UserWarning: set_ticklabels() should only be used with a fixed number of ticks, i.e. after set_ticks() or using a FixedLocator.\n",
            "  ax.set_yticklabels([''] + all_categories)\n"
          ]
        },
        {
          "output_type": "display_data",
          "data": {
            "text/plain": [
              "<Figure size 640x480 with 2 Axes>"
            ],
            "image/png": "[encoded data removed]"
          },
          "metadata": {}
        }
      ],
      "source": [
        "# Keep track of correct guesses in a confusion matrix\n",
        "confusion = torch.zeros(n_categories, n_categories)\n",
        "n_confusion = 10000\n",
        "\n",
        "# Just return an output given a line\n",
        "def evaluate(line_tensor):\n",
        "    hidden = rnn.initHidden()\n",
        "\n",
        "    for i in range(line_tensor.size()[0]):\n",
        "        output, hidden = rnn(line_tensor[i], hidden)\n",
        "\n",
        "    return output\n",
        "\n",
        "# Go through a bunch of examples and record which are correctly guessed\n",
        "for i in range(n_confusion):\n",
        "    category, line, category_tensor, line_tensor = randomTrainingExample()\n",
        "    output = evaluate(line_tensor)\n",
        "    guess, guess_i = categoryFromOutput(output)\n",
        "    category_i = all_categories.index(category)\n",
        "    confusion[category_i][guess_i] += 1\n",
        "\n",
        "# Normalize by dividing every row by its sum\n",
        "for i in range(n_categories):\n",
        "    confusion[i] = confusion[i] / confusion[i].sum()\n",
        "\n",
        "# Set up plot\n",
        "fig = plt.figure()\n",
        "ax = fig.add_subplot(111)\n",
        "cax = ax.matshow(confusion.numpy())\n",
        "fig.colorbar(cax)\n",
        "\n",
        "# Set up axes\n",
        "ax.set_xticklabels([''] + all_categories, rotation=90)\n",
        "ax.set_yticklabels([''] + all_categories)\n",
        "\n",
        "# Force label at every tick\n",
        "ax.xaxis.set_major_locator(ticker.MultipleLocator(1))\n",
        "ax.yaxis.set_major_locator(ticker.MultipleLocator(1))\n",
        "\n",
        "# sphinx_gallery_thumbnail_number = 2\n",
        "plt.show()\n",
        "\n",
        "############\n",
        "\n",
        "#The confusion matrix shows how well did the model predict that a name belonged to certein category\n",
        "#It seems to work the best with Vietnamese and Arab names. While it seems to struggle only with English.\n"
      ]
    },
    {
      "cell_type": "markdown",
      "metadata": {
        "id": "v1VypY2qTBLH"
      },
      "source": [
        "You can pick out bright spots off the main axis that show which\n",
        "languages it guesses incorrectly, e.g. Chinese for Korean, and Spanish\n",
        "for Italian. It seems to do very well with Greek, and very poorly with\n",
        "English (perhaps because of overlap with other languages).\n"
      ]
    },
    {
      "cell_type": "markdown",
      "metadata": {
        "id": "ABNlUno5TBLH"
      },
      "source": [
        "Running on User Input\n",
        "=====================\n"
      ]
    },
    {
      "cell_type": "code",
      "execution_count": 21,
      "metadata": {
        "id": "4vnEINABTBLH",
        "outputId": "88a20da6-cf3e-4c3f-b1c9-9e47bcca99c3",
        "colab": {
          "base_uri": "https://localhost:8080/"
        }
      },
      "outputs": [
        {
          "output_type": "stream",
          "name": "stdout",
          "text": [
            "\n",
            "> Dovesky\n",
            "(-0.66) Russian\n",
            "(-1.01) Czech\n",
            "(-2.50) English\n",
            "\n",
            "> Jackson\n",
            "(-0.05) Scottish\n",
            "(-3.32) English\n",
            "(-5.15) Russian\n",
            "\n",
            "> Satoshi\n",
            "(-0.51) Japanese\n",
            "(-1.97) Italian\n",
            "(-2.41) Czech\n",
            "\n",
            "> Rivera\n",
            "(-0.17) Spanish\n",
            "(-2.05) Italian\n",
            "(-4.57) Dutch\n",
            "\n",
            "> Mirzoodilov\n",
            "(-0.30) Russian\n",
            "(-1.56) Polish\n",
            "(-3.29) Czech\n",
            "\n",
            "> Noßol\n",
            "(-0.88) Spanish\n",
            "(-1.10) Polish\n",
            "(-2.38) Czech\n",
            "\n",
            "> Jägger\n",
            "(-1.18) German\n",
            "(-1.28) Czech\n",
            "(-1.48) English\n"
          ]
        }
      ],
      "source": [
        "def predict(input_line, n_predictions=3):\n",
        "    print('\\n> %s' % input_line)\n",
        "    with torch.no_grad():\n",
        "        output = evaluate(lineToTensor(input_line))\n",
        "\n",
        "        # Get top N categories\n",
        "        topv, topi = output.topk(n_predictions, 1, True)\n",
        "        predictions = []\n",
        "\n",
        "        for i in range(n_predictions):\n",
        "            value = topv[0][i].item()\n",
        "            category_index = topi[0][i].item()\n",
        "            print('(%.2f) %s' % (value, all_categories[category_index]))\n",
        "            predictions.append([value, all_categories[category_index]])\n",
        "\n",
        "predict('Dovesky')\n",
        "predict('Jackson')\n",
        "predict('Satoshi')\n",
        "predict('Rivera')\n",
        "predict('Mirzoodilov')\n",
        "predict('Noßol')\n",
        "predict('Jägger')"
      ]
    },
    {
      "cell_type": "markdown",
      "metadata": {
        "id": "esypgpa1TBLH"
      },
      "source": [
        "The final versions of the scripts [in the Practical PyTorch\n",
        "repo](https://github.com/spro/practical-pytorch/tree/master/char-rnn-classification)\n",
        "split the above code into a few files:\n",
        "\n",
        "-   `data.py` (loads files)\n",
        "-   `model.py` (defines the RNN)\n",
        "-   `train.py` (runs training)\n",
        "-   `predict.py` (runs `predict()` with command line arguments)\n",
        "-   `server.py` (serve prediction as a JSON API with `bottle.py`)\n",
        "\n",
        "Run `train.py` to train and save the network.\n",
        "\n",
        "Run `predict.py` with a name to view predictions:\n",
        "\n",
        "``` {.sh}\n",
        "$ python predict.py Hazaki\n",
        "(-0.42) Japanese\n",
        "(-1.39) Polish\n",
        "(-3.51) Czech\n",
        "```\n",
        "\n",
        "Run `server.py` and visit <http://localhost:5533/Yourname> to get JSON\n",
        "output of predictions.\n"
      ]
    },
    {
      "cell_type": "markdown",
      "metadata": {
        "id": "o2o0vo4RTBLI"
      },
      "source": [
        "Exercises\n",
        "=========\n",
        "- 7.1 a\\) Comments to the code and plots where done in code using #.\n",
        "\n",
        "- b\\)**Pros:**  A RNN for characters from the  seems to be a great approach for name classification. After all names of diferent regions tend to follow a similar gramatic and orgin, which must leave some hidden patterns.\n",
        "\n",
        "  Thanks to the transformation of the names into ASCII code, the each character could be differentiated from each other.\n",
        "\n",
        "  Using backpropagation in the training loop, the model is able to learn, allowing the algorithm to catch the hidden patterns critical for the name classification. This improvement is visualized by monitoring the output of the loss function over time.\n",
        "\n",
        "- **Contras:**On the other hand the transformation of to ASCII, doesnt collect special symbols which could hint further the classification of the name, losing some data by simplying. And, while this was done for short data sets, in the future it might need enhancement layers or regularization techniques if larges data sets are used. It also lacks of memory during the sequential processing (meachinism to decide when to remember or forgent certain hidden states)\n",
        "\n",
        "\n",
        "\n",
        "########################################\n",
        "\n",
        "-   Try with a different dataset of line -\\> category, for example:\n",
        "    -   Any word -\\> language\n",
        "    -   First name -\\> gender\n",
        "    -   Character name -\\> writer\n",
        "    -   Page title -\\> blog or subreddit\n",
        "-   Get better results with a bigger and/or better shaped network\n",
        "    -   Add more linear layers\n",
        "    -   Try the `nn.LSTM` and `nn.GRU` layers\n",
        "    -   Combine multiple of these RNNs as a higher level network\n"
      ]
    },
    {
      "cell_type": "markdown",
      "source": [
        "**7.2 a\\)**"
      ],
      "metadata": {
        "id": "aex_khiN6NbI"
      }
    },
    {
      "cell_type": "code",
      "source": [
        "# Flatten the dictionary \"category_lines\" into X (names) and y (categories)\n",
        "X = []  # List of names (inputs)\n",
        "y = []  # List of categories (labels)\n",
        "\n",
        "for category, names in category_lines.items():\n",
        "    X.extend(names)  # Add all names to X\n",
        "    y.extend([category] * len(names))  # Add the corresponding category to y\n",
        "\n",
        "print(f\"Number of samples: {len(X)}\")\n",
        "print(f\"Examples of X: {X[:5]}\")  # After the 5 names\n",
        "print(f\"Examples of y: {y[:5]}\")  # Corresponding categories\n"
      ],
      "metadata": {
        "colab": {
          "base_uri": "https://localhost:8080/"
        },
        "id": "t2QGkc0WGJzy",
        "outputId": "1bdb3b02-123d-4a2d-b8a4-319f9f67b33c"
      },
      "execution_count": 51,
      "outputs": [
        {
          "output_type": "stream",
          "name": "stdout",
          "text": [
            "Number of samples: 20074\n",
            "Examples of X: ['Abana', 'Abano', 'Abarca', 'Abaroa', 'Abascal']\n",
            "Examples of y: ['Spanish', 'Spanish', 'Spanish', 'Spanish', 'Spanish']\n"
          ]
        }
      ]
    },
    {
      "cell_type": "code",
      "source": [
        "from sklearn.model_selection import train_test_split\n",
        "\n",
        "# Split the data into training and test sets\n",
        "X_train, X_test, y_train, y_test = train_test_split(X, y, test_size=0.2, random_state=42)\n",
        "\n",
        "print(f\"Training samples: {len(X_train)}\")\n",
        "print(f\"Testing samples: {len(X_test)}\")\n",
        "len(X_train), len(X_test), len(y_train), len(y_test)"
      ],
      "metadata": {
        "colab": {
          "base_uri": "https://localhost:8080/"
        },
        "id": "s3OzSaj-Gtwd",
        "outputId": "974b3d79-23db-4f3c-905a-30a7b115ef6a"
      },
      "execution_count": 23,
      "outputs": [
        {
          "output_type": "stream",
          "name": "stdout",
          "text": [
            "Training samples: 16059\n",
            "Testing samples: 4015\n"
          ]
        },
        {
          "output_type": "execute_result",
          "data": {
            "text/plain": [
              "(16059, 4015, 16059, 4015)"
            ]
          },
          "metadata": {},
          "execution_count": 23
        }
      ]
    },
    {
      "cell_type": "code",
      "source": [
        "def randomTrainingExample():\n",
        "    import random\n",
        "    i = random.randint(0, len(X_train) - 1)\n",
        "    line = X_train[i]\n",
        "    category = y_train[i]\n",
        "    category_tensor = torch.tensor([all_categories.index(category)], dtype=torch.long)\n",
        "    line_tensor = lineToTensor(line)\n",
        "    return category, line, category_tensor, line_tensor"
      ],
      "metadata": {
        "id": "Yu0CwC5RONGe"
      },
      "execution_count": 24,
      "outputs": []
    },
    {
      "cell_type": "code",
      "source": [
        "import time\n",
        "import math\n",
        "\n",
        "# Function to evaluate accuracy on test set\n",
        "def evaluate():\n",
        "    rnn.eval()\n",
        "    correct = 0\n",
        "    total = len(X_test)\n",
        "    with torch.no_grad():\n",
        "        for i in range(total):\n",
        "            line = X_test[i]\n",
        "            category = y_test[i]\n",
        "            category_tensor = torch.tensor([all_categories.index(category)], dtype=torch.long)\n",
        "            line_tensor = lineToTensor(line)\n",
        "\n",
        "            hidden = rnn.initHidden()\n",
        "            for j in range(line_tensor.size()[0]):\n",
        "                output, hidden = rnn(line_tensor[j], hidden)\n",
        "\n",
        "            guess, guess_i = categoryFromOutput(output)\n",
        "            if guess == category:\n",
        "                correct += 1\n",
        "    return correct / total\n",
        "\n",
        "# Time helper function\n",
        "def timeSince(since):\n",
        "    now = time.time()\n",
        "    s = now - since\n",
        "    m = math.floor(s / 60)\n",
        "    s -= m * 60\n",
        "    return '%dm %ds' % (m, s)\n",
        "\n",
        "# Set parameters\n",
        "n_iters = 100000\n",
        "print_every = 5000\n",
        "plot_every = 1000\n",
        "learning_rate = 0.005\n",
        "\n",
        "# Keep track of losses for plotting\n",
        "current_loss = 0\n",
        "all_losses = []\n",
        "\n",
        "# Training function\n",
        "def train(category_tensor, line_tensor):\n",
        "    hidden = rnn.initHidden()\n",
        "    rnn.zero_grad()\n",
        "\n",
        "    for i in range(line_tensor.size()[0]):\n",
        "        output, hidden = rnn(line_tensor[i], hidden)\n",
        "\n",
        "    loss = criterion(output, category_tensor)\n",
        "    loss.backward()\n",
        "\n",
        "    for p in rnn.parameters():\n",
        "        p.data.add_(p.grad.data, alpha=-learning_rate)\n",
        "\n",
        "    return output, loss.item()\n",
        "\n",
        "# Start training\n",
        "start = time.time()\n",
        "\n",
        "for iter in range(1, n_iters + 1):\n",
        "    category, line, category_tensor, line_tensor = randomTrainingExample()\n",
        "    output, loss = train(category_tensor, line_tensor)\n",
        "    current_loss += loss\n",
        "\n",
        "    # Print progress\n",
        "    if iter % print_every == 0:\n",
        "        guess, guess_i = categoryFromOutput(output)\n",
        "        correct = '✓' if guess == category else '✗ (%s)' % category\n",
        "        test_accuracy = evaluate()\n",
        "        print('%d %d%% (%s) Loss: %.4f | Test Accuracy: %.2f%% | %s / %s %s' %\n",
        "              (iter, iter / n_iters * 100, timeSince(start), loss, test_accuracy * 100, line, guess, correct))\n",
        "\n",
        "    # Plot losses\n",
        "    if iter % plot_every == 0:\n",
        "        all_losses.append(current_loss / plot_every)\n",
        "        current_loss = 0\n",
        "\n",
        "\n",
        "    #It seems that the model get an accuracy average of ~77% after the firs 5 runs\n",
        "    #The training data was splited into 20 percent training and 80 percent test\n"
      ],
      "metadata": {
        "colab": {
          "base_uri": "https://localhost:8080/"
        },
        "id": "xewY8YAMPhmr",
        "outputId": "22bd46a8-4ae2-4836-d4e3-7b6c636ba59f"
      },
      "execution_count": 25,
      "outputs": [
        {
          "output_type": "stream",
          "name": "stdout",
          "text": [
            "5000 5% (0m 11s) Loss: 0.0034 | Test Accuracy: 74.72% | Zinov / Russian ✓\n",
            "10000 10% (0m 23s) Loss: 0.0080 | Test Accuracy: 75.97% | BeknazarYuzbashev / Russian ✓\n",
            "15000 15% (0m 34s) Loss: 0.8980 | Test Accuracy: 75.04% | Tassioglou / Greek ✓\n",
            "20000 20% (0m 46s) Loss: 1.1988 | Test Accuracy: 76.39% | Verney / Russian ✗ (English)\n",
            "25000 25% (0m 57s) Loss: 0.9342 | Test Accuracy: 75.37% | Baumgarten / Russian ✓\n",
            "30000 30% (1m 9s) Loss: 0.0280 | Test Accuracy: 75.74% | Lutov / Russian ✓\n",
            "35000 35% (1m 20s) Loss: 3.8292 | Test Accuracy: 75.77% | Silva / Polish ✗ (Portuguese)\n",
            "40000 40% (1m 31s) Loss: 1.2440 | Test Accuracy: 75.74% | Horn / English ✗ (German)\n",
            "45000 45% (1m 43s) Loss: 0.3549 | Test Accuracy: 76.61% | Bernard / English ✓\n",
            "50000 50% (1m 55s) Loss: 3.6235 | Test Accuracy: 74.65% | Tykal / Russian ✗ (Czech)\n",
            "55000 55% (2m 7s) Loss: 0.0022 | Test Accuracy: 77.38% | Anisikhin / Russian ✓\n",
            "60000 60% (2m 18s) Loss: 0.2177 | Test Accuracy: 76.96% | Avdiyants / Russian ✓\n",
            "65000 65% (2m 30s) Loss: 0.1574 | Test Accuracy: 76.41% | Junda / Russian ✓\n",
            "70000 70% (2m 42s) Loss: 0.0066 | Test Accuracy: 76.46% | Maroun / Arabic ✓\n",
            "75000 75% (2m 53s) Loss: 0.0281 | Test Accuracy: 71.53% | Paidoverov / Russian ✓\n",
            "80000 80% (3m 5s) Loss: 0.0022 | Test Accuracy: 76.69% | Yanenko / Russian ✓\n",
            "85000 85% (3m 18s) Loss: 0.0015 | Test Accuracy: 77.78% | Yujenko / Russian ✓\n",
            "90000 90% (3m 29s) Loss: 0.0002 | Test Accuracy: 75.37% | Jakubovsky / Russian ✓\n",
            "95000 95% (3m 40s) Loss: 0.0747 | Test Accuracy: 78.11% | Assaf / Arabic ✓\n",
            "100000 100% (3m 51s) Loss: 0.0084 | Test Accuracy: 77.06% | Mansour / Arabic ✓\n"
          ]
        }
      ]
    },
    {
      "cell_type": "markdown",
      "source": [
        "**b\\)**"
      ],
      "metadata": {
        "id": "pLQi03S6MzpX"
      }
    },
    {
      "cell_type": "code",
      "source": [
        "import torch\n",
        "import time\n",
        "import math\n",
        "\n",
        "# Function to evaluate accuracy on test set\n",
        "def evaluate():\n",
        "    rnn.eval()\n",
        "    correct = 0\n",
        "    total = len(X_test)\n",
        "    with torch.no_grad():\n",
        "        for i in range(total):\n",
        "            line = X_test[i]\n",
        "            category = y_test[i]\n",
        "            category_tensor = torch.tensor([all_categories.index(category)], dtype=torch.long).to(device)\n",
        "            line_tensor = lineToTensor(line).to(device)  # Move to device\n",
        "\n",
        "            hidden = rnn.initHidden().to(device)  # Move hidden state to device\n",
        "            for j in range(line_tensor.size()[0]):\n",
        "                output, hidden = rnn(line_tensor[j], hidden)\n",
        "\n",
        "            guess, guess_i = categoryFromOutput(output)\n",
        "            if guess == category:\n",
        "                correct += 1\n",
        "    return correct / total\n",
        "\n",
        "# Time helper function\n",
        "def timeSince(since):\n",
        "    now = time.time()\n",
        "    s = now - since\n",
        "    m = math.floor(s / 60)\n",
        "    s -= m * 60\n",
        "    return '%dm %ds' % (m, s)\n",
        "\n",
        "# Set parameters\n",
        "n_iters = 100000\n",
        "print_every = 5000\n",
        "plot_every = 1000\n",
        "learning_rate = 0.005\n",
        "\n",
        "# Keep track of losses for plotting\n",
        "current_loss = 0\n",
        "all_losses = []\n",
        "\n",
        "# Training function\n",
        "def train(category_tensor, line_tensor):\n",
        "    hidden = rnn.initHidden().to(device)  # Move hidden state to device\n",
        "    rnn.zero_grad()\n",
        "\n",
        "    for i in range(line_tensor.size()[0]):\n",
        "        output, hidden = rnn(line_tensor[i], hidden)\n",
        "\n",
        "    loss = criterion(output, category_tensor)\n",
        "    loss.backward()\n",
        "\n",
        "    for p in rnn.parameters():\n",
        "        p.data.add_(p.grad.data, alpha=-learning_rate)\n",
        "\n",
        "    return output, loss.item()\n",
        "\n",
        "# Check if CUDA is available\n",
        "device = torch.device(\"cuda\" if torch.cuda.is_available() else \"cpu\")\n",
        "print(f\"Training on {device}\")\n",
        "\n",
        "# Move model to device (GPU if available)\n",
        "rnn.to(device)\n",
        "\n",
        "# Start timer\n",
        "start = time.time()\n",
        "\n",
        "# Training loop on GPU\n",
        "for iter in range(1, n_iters + 1):\n",
        "    category, line, category_tensor, line_tensor = randomTrainingExample()\n",
        "    category_tensor = category_tensor.to(device)  # Move category tensor to device\n",
        "    line_tensor = line_tensor.to(device)  # Move line tensor to device\n",
        "    output, loss = train(category_tensor, line_tensor)\n",
        "    current_loss += loss\n",
        "\n",
        "    # Print progress\n",
        "    if iter % print_every == 0:\n",
        "        guess, guess_i = categoryFromOutput(output)\n",
        "        correct = '✓' if guess == category else '✗ (%s)' % category\n",
        "        test_accuracy = evaluate()\n",
        "        print(f'{iter} {iter / n_iters * 100:.2f}% ({timeSince(start)}) Loss: {loss:.4f} | Test Accuracy: {test_accuracy * 100:.2f}% | {line} / {guess} {correct}')\n",
        "\n",
        "    # Plot losses\n",
        "    if iter % plot_every == 0:\n",
        "        all_losses.append(current_loss / plot_every)\n",
        "        current_loss = 0\n",
        "\n",
        "# Total training time on GPU\n",
        "total_time_gpu = time.time() - start\n",
        "print(f\"Training time on GPU: {total_time_gpu:.2f} seconds\")\n",
        "\n",
        "\n"
      ],
      "metadata": {
        "colab": {
          "base_uri": "https://localhost:8080/"
        },
        "id": "1opzXab2ePAt",
        "outputId": "18458bd9-1d35-4537-84fe-116d842812b5"
      },
      "execution_count": 31,
      "outputs": [
        {
          "output_type": "stream",
          "name": "stdout",
          "text": [
            "Training on cuda\n",
            "5000 5.00% (0m 22s) Loss: 0.0019 | Test Accuracy: 77.24% | Alshevsky / Russian ✓\n",
            "10000 10.00% (0m 45s) Loss: 0.0511 | Test Accuracy: 76.24% | Ashford / English ✓\n",
            "15000 15.00% (1m 11s) Loss: 0.0382 | Test Accuracy: 76.49% | Ellard / English ✓\n",
            "20000 20.00% (1m 33s) Loss: 0.2341 | Test Accuracy: 76.64% | Santo / Japanese ✓\n",
            "25000 25.00% (1m 55s) Loss: 0.5780 | Test Accuracy: 77.19% | Geiszler / German ✓\n",
            "30000 30.00% (2m 18s) Loss: 0.1014 | Test Accuracy: 78.53% | Mukin / Russian ✓\n",
            "35000 35.00% (2m 41s) Loss: 0.0005 | Test Accuracy: 77.38% | Tujikov / Russian ✓\n",
            "40000 40.00% (3m 4s) Loss: 0.0095 | Test Accuracy: 76.59% | Iijima / Japanese ✓\n",
            "45000 45.00% (3m 26s) Loss: 0.5007 | Test Accuracy: 78.43% | Fisun / Russian ✓\n",
            "50000 50.00% (3m 49s) Loss: 0.0250 | Test Accuracy: 77.29% | Woollard / English ✓\n",
            "55000 55.00% (4m 11s) Loss: 0.0019 | Test Accuracy: 75.62% | Mikhail / Arabic ✓\n",
            "60000 60.00% (4m 34s) Loss: 0.0001 | Test Accuracy: 76.89% | Jakunkin / Russian ✓\n",
            "65000 65.00% (4m 57s) Loss: 0.1890 | Test Accuracy: 75.54% | Trapani / Italian ✓\n",
            "70000 70.00% (5m 19s) Loss: 2.5450 | Test Accuracy: 77.53% | Michudo / Japanese ✗ (Russian)\n",
            "75000 75.00% (5m 42s) Loss: 0.0838 | Test Accuracy: 77.83% | Kaminaga / Japanese ✓\n",
            "80000 80.00% (6m 5s) Loss: 3.2515 | Test Accuracy: 77.73% | Karl / Czech ✗ (German)\n",
            "85000 85.00% (6m 28s) Loss: 0.0859 | Test Accuracy: 78.48% | Yau / Chinese ✓\n",
            "90000 90.00% (6m 50s) Loss: 0.0059 | Test Accuracy: 78.48% | Batchev / Russian ✓\n",
            "95000 95.00% (7m 12s) Loss: 5.0237 | Test Accuracy: 76.46% | Venne / English ✗ (Dutch)\n",
            "100000 100.00% (7m 35s) Loss: 0.0935 | Test Accuracy: 78.75% | Millar / English ✓\n",
            "Training time on GPU: 455.19 seconds\n"
          ]
        }
      ]
    },
    {
      "cell_type": "code",
      "source": [
        "import torch\n",
        "import time\n",
        "import math\n",
        "\n",
        "# Function to evaluate accuracy on test set\n",
        "def evaluate():\n",
        "    rnn.eval()\n",
        "    correct = 0\n",
        "    total = len(X_test)\n",
        "    with torch.no_grad():\n",
        "        for i in range(total):\n",
        "            line = X_test[i]\n",
        "            category = y_test[i]\n",
        "            category_tensor = torch.tensor([all_categories.index(category)], dtype=torch.long).to(device)\n",
        "            line_tensor = lineToTensor(line).to(device)  # Move to device\n",
        "\n",
        "            hidden = rnn.initHidden().to(device)  # Move hidden state to device\n",
        "            for j in range(line_tensor.size()[0]):\n",
        "                output, hidden = rnn(line_tensor[j], hidden)\n",
        "\n",
        "            guess, guess_i = categoryFromOutput(output)\n",
        "            if guess == category:\n",
        "                correct += 1\n",
        "    return correct / total\n",
        "\n",
        "# Time helper function\n",
        "def timeSince(since):\n",
        "    now = time.time()\n",
        "    s = now - since\n",
        "    m = math.floor(s / 60)\n",
        "    s -= m * 60\n",
        "    return '%dm %ds' % (m, s)\n",
        "\n",
        "# Set parameters\n",
        "n_iters = 100000\n",
        "print_every = 5000\n",
        "plot_every = 1000\n",
        "learning_rate = 0.005\n",
        "\n",
        "# Keep track of losses for plotting\n",
        "current_loss = 0\n",
        "all_losses = []\n",
        "\n",
        "# Training function\n",
        "def train(category_tensor, line_tensor):\n",
        "    hidden = rnn.initHidden().to(device)  # Move hidden state to device\n",
        "    rnn.zero_grad()\n",
        "\n",
        "    for i in range(line_tensor.size()[0]):\n",
        "        output, hidden = rnn(line_tensor[i], hidden)\n",
        "\n",
        "    loss = criterion(output, category_tensor)\n",
        "    loss.backward()\n",
        "\n",
        "    for p in rnn.parameters():\n",
        "        p.data.add_(p.grad.data, alpha=-learning_rate)\n",
        "\n",
        "    return output, loss.item()\n",
        "\n",
        "# Use CPU\n",
        "device = torch.device(\"cpu\")\n",
        "print(f\"Training on {device}\")\n",
        "\n",
        "# Move model to CPU\n",
        "rnn.to(device)\n",
        "\n",
        "# Start timer\n",
        "start = time.time()\n",
        "\n",
        "# Training loop on CPU\n",
        "for iter in range(1, n_iters + 1):\n",
        "    category, line, category_tensor, line_tensor = randomTrainingExample()\n",
        "    category_tensor = category_tensor.to(device)  # Move category tensor to device\n",
        "    line_tensor = line_tensor.to(device)  # Move line tensor to device\n",
        "    output, loss = train(category_tensor, line_tensor)\n",
        "    current_loss += loss\n",
        "\n",
        "    # Print progress\n",
        "    if iter % print_every == 0:\n",
        "        guess, guess_i = categoryFromOutput(output)\n",
        "        correct = '✓' if guess == category else '✗ (%s)' % category\n",
        "        test_accuracy = evaluate()\n",
        "        print(f'{iter} {iter / n_iters * 100:.2f}% ({timeSince(start)}) Loss: {loss:.4f} | Test Accuracy: {test_accuracy * 100:.2f}% | {line} / {guess} {correct}')\n",
        "\n",
        "    # Plot losses\n",
        "    if iter % plot_every == 0:\n",
        "        all_losses.append(current_loss / plot_every)\n",
        "        current_loss = 0\n",
        "\n",
        "# Total training time on CPU\n",
        "total_time_cpu = time.time() - start\n",
        "print(f\"Training time on CPU: {total_time_cpu:.2f} seconds\")\n"
      ],
      "metadata": {
        "colab": {
          "base_uri": "https://localhost:8080/"
        },
        "id": "pf-G1wPTM_pQ",
        "outputId": "453981ba-b641-48cc-d214-96ac02c96eb3"
      },
      "execution_count": 32,
      "outputs": [
        {
          "output_type": "stream",
          "name": "stdout",
          "text": [
            "Training on cpu\n",
            "5000 5.00% (0m 12s) Loss: 3.9479 | Test Accuracy: 76.36% | De leon / English ✗ (Spanish)\n",
            "10000 10.00% (0m 24s) Loss: 3.2409 | Test Accuracy: 77.01% | Jippensha / Russian ✗ (Japanese)\n",
            "15000 15.00% (0m 36s) Loss: 3.8297 | Test Accuracy: 76.79% | Petersen / German ✗ (Czech)\n",
            "20000 20.00% (0m 48s) Loss: 0.0004 | Test Accuracy: 78.06% | Halatov / Russian ✓\n",
            "25000 25.00% (1m 0s) Loss: 0.0172 | Test Accuracy: 77.21% | Kalitvin / Russian ✓\n",
            "30000 30.00% (1m 14s) Loss: 1.1773 | Test Accuracy: 76.79% | Harker / German ✗ (English)\n",
            "35000 35.00% (1m 26s) Loss: 0.0004 | Test Accuracy: 76.86% | Durmanov / Russian ✓\n",
            "40000 40.00% (1m 38s) Loss: 0.0064 | Test Accuracy: 75.94% | O'Neal / Irish ✓\n",
            "45000 45.00% (1m 50s) Loss: 0.0133 | Test Accuracy: 76.76% | Ustvolsky / Russian ✓\n",
            "50000 50.00% (2m 2s) Loss: 0.5215 | Test Accuracy: 77.11% | Nifterick / Dutch ✓\n",
            "55000 55.00% (2m 13s) Loss: 2.1146 | Test Accuracy: 77.16% | Wright / English ✗ (Scottish)\n",
            "60000 60.00% (2m 25s) Loss: 0.0369 | Test Accuracy: 76.36% | Jindra / Czech ✓\n",
            "65000 65.00% (2m 37s) Loss: 0.0024 | Test Accuracy: 76.44% | Badelin / Russian ✓\n",
            "70000 70.00% (2m 49s) Loss: 0.1020 | Test Accuracy: 74.57% | Mlodik / Russian ✓\n",
            "75000 75.00% (3m 1s) Loss: 0.1788 | Test Accuracy: 77.16% | Dzhugashvili / Russian ✓\n",
            "80000 80.00% (3m 13s) Loss: 0.0024 | Test Accuracy: 75.72% | Yujilin / Russian ✓\n",
            "85000 85.00% (3m 25s) Loss: 0.0415 | Test Accuracy: 76.41% | Kennard / English ✓\n",
            "90000 90.00% (3m 37s) Loss: 0.2355 | Test Accuracy: 76.64% | Waclauska / Czech ✓\n",
            "95000 95.00% (3m 50s) Loss: 0.1085 | Test Accuracy: 77.29% | Portnenko / Russian ✓\n",
            "100000 100.00% (4m 2s) Loss: 0.0148 | Test Accuracy: 77.29% | O'Hanlon / Irish ✓\n",
            "Training time on CPU: 242.31 seconds\n"
          ]
        }
      ]
    },
    {
      "cell_type": "markdown",
      "source": [
        "Surprisingly the CPU had better runtime with 242.31 seconds for the training compared to 455.19 seconds it needed while using the GPU (T4 from Google Colab)"
      ],
      "metadata": {
        "id": "yMa8vHK5obgw"
      }
    },
    {
      "cell_type": "markdown",
      "source": [
        "**c\\)**"
      ],
      "metadata": {
        "id": "Aqv-sVSQlwx2"
      }
    },
    {
      "cell_type": "code",
      "source": [
        "# Set parameters\n",
        "n_hidden = 512  # Fourtimes of 128\n",
        "n_iters = 100000\n",
        "print_every = 5000\n",
        "plot_every = 1000\n",
        "learning_rate = 0.005\n",
        "\n",
        "# Keep track of losses for plotting\n",
        "current_loss = 0\n",
        "all_losses = []\n",
        "\n",
        "# Define function to train and evaluate the model\n",
        "def train(category_tensor, line_tensor):\n",
        "    hidden = rnn.initHidden()\n",
        "    rnn.zero_grad()\n",
        "\n",
        "    for i in range(line_tensor.size()[0]):\n",
        "        output, hidden = rnn(line_tensor[i], hidden)\n",
        "\n",
        "    loss = criterion(output, category_tensor)\n",
        "    loss.backward()\n",
        "\n",
        "    for p in rnn.parameters():\n",
        "        p.data.add_(p.grad.data, alpha=-learning_rate)\n",
        "\n",
        "    return output, loss.item()\n",
        "\n",
        "# Function to evaluate accuracy on test set\n",
        "def evaluate():\n",
        "    rnn.eval()\n",
        "    correct = 0\n",
        "    total = len(X_test)\n",
        "    with torch.no_grad():\n",
        "        for i in range(total):\n",
        "            line = X_test[i]\n",
        "            category = y_test[i]\n",
        "            category_tensor = torch.tensor([all_categories.index(category)], dtype=torch.long)\n",
        "            line_tensor = lineToTensor(line)\n",
        "\n",
        "            hidden = rnn.initHidden()\n",
        "            for j in range(line_tensor.size()[0]):\n",
        "                output, hidden = rnn(line_tensor[j], hidden)\n",
        "\n",
        "            guess, guess_i = categoryFromOutput(output)\n",
        "            if guess == category:\n",
        "                correct += 1\n",
        "    return correct / total\n",
        "\n",
        "# Time helper function\n",
        "def timeSince(since):\n",
        "    now = time.time()\n",
        "    s = now - since\n",
        "    m = math.floor(s / 60)\n",
        "    s -= m * 60\n",
        "    return '%dm %ds' % (m, s)\n",
        "\n",
        "# Start training with the defined hidden size\n",
        "start = time.time()\n",
        "\n",
        "# Initialize RNN with the new hidden size\n",
        "rnn = RNN(n_letters, n_hidden, n_categories)\n",
        "\n",
        "for iter in range(1, n_iters + 1):\n",
        "    category, line, category_tensor, line_tensor = randomTrainingExample()\n",
        "    output, loss = train(category_tensor, line_tensor)\n",
        "    current_loss += loss\n",
        "\n",
        "    # Print progress\n",
        "    if iter % print_every == 0:\n",
        "        guess, guess_i = categoryFromOutput(output)\n",
        "        correct = '✓' if guess == category else '✗ (%s)' % category\n",
        "        test_accuracy = evaluate()\n",
        "        print(f'{iter} {iter / n_iters * 100:.2f}% ({timeSince(start)}) Loss: {loss:.4f} | Test Accuracy: {test_accuracy * 100:.2f}% | {line} / {guess} {correct}')\n",
        "\n",
        "    # Plot losses\n",
        "    if iter % plot_every == 0:\n",
        "        all_losses.append(current_loss / plot_every)\n",
        "        current_loss = 0\n",
        "\n",
        "# Total training time\n",
        "total_time = time.time() - start\n",
        "print(f\"Training time with {n_hidden} hidden units: {total_time:.2f} seconds\")\n"
      ],
      "metadata": {
        "colab": {
          "base_uri": "https://localhost:8080/"
        },
        "id": "LLc_6liZrrj8",
        "outputId": "64d681a0-25e8-4a25-cb93-f5fa998f9673"
      },
      "execution_count": 38,
      "outputs": [
        {
          "output_type": "stream",
          "name": "stdout",
          "text": [
            "5000 5.00% (0m 25s) Loss: 0.6896 | Test Accuracy: 65.33% | Ferris / English ✓\n",
            "10000 10.00% (0m 50s) Loss: 2.8409 | Test Accuracy: 61.89% | Selmone / English ✗ (Italian)\n",
            "15000 15.00% (1m 16s) Loss: 0.8208 | Test Accuracy: 64.81% | Tolley / English ✓\n",
            "20000 20.00% (1m 41s) Loss: 0.0007 | Test Accuracy: 70.54% | Nesmeyanov / Russian ✓\n",
            "25000 25.00% (2m 8s) Loss: 0.1871 | Test Accuracy: 69.86% | Attia / Arabic ✓\n",
            "30000 30.00% (2m 36s) Loss: 0.0057 | Test Accuracy: 72.40% | Valtchikovsky / Russian ✓\n",
            "35000 35.00% (3m 5s) Loss: 0.6716 | Test Accuracy: 71.96% | Liddell / English ✓\n",
            "40000 40.00% (3m 34s) Loss: 0.8589 | Test Accuracy: 73.05% | Parma / Italian ✓\n",
            "45000 45.00% (4m 3s) Loss: 1.9204 | Test Accuracy: 65.01% | Froman / English ✗ (Russian)\n",
            "50000 50.00% (4m 31s) Loss: 3.3679 | Test Accuracy: 70.29% | Tamboia / Japanese ✗ (Italian)\n",
            "55000 55.00% (5m 6s) Loss: 0.7860 | Test Accuracy: 73.57% | Drechsler / German ✓\n",
            "60000 60.00% (5m 33s) Loss: 0.4241 | Test Accuracy: 73.10% | Bologna / Italian ✓\n",
            "65000 65.00% (5m 59s) Loss: 4.4593 | Test Accuracy: 70.44% | Matsushina / Russian ✗ (Japanese)\n",
            "70000 70.00% (6m 24s) Loss: 0.3856 | Test Accuracy: 72.00% | Essa / Arabic ✓\n",
            "75000 75.00% (6m 50s) Loss: 0.1933 | Test Accuracy: 73.05% | Dubrowski / Russian ✓\n",
            "80000 80.00% (7m 15s) Loss: 0.0045 | Test Accuracy: 73.33% | Bezrukavnikov / Russian ✓\n",
            "85000 85.00% (7m 41s) Loss: 2.0761 | Test Accuracy: 73.70% | Makhlai / Arabic ✗ (Russian)\n",
            "90000 90.00% (8m 7s) Loss: 0.1186 | Test Accuracy: 70.14% | Rjavin / Russian ✓\n",
            "95000 95.00% (8m 33s) Loss: 0.3857 | Test Accuracy: 71.41% | Gaber / Arabic ✓\n",
            "100000 100.00% (9m 0s) Loss: 1.3959 | Test Accuracy: 72.75% | Fairlie / English ✓\n",
            "Training time with 512 hidden units: 540.13 seconds\n"
          ]
        }
      ]
    },
    {
      "cell_type": "code",
      "source": [
        "\n",
        "\n",
        "# Set parameters\n",
        "n_hidden = 256  # Double of 128\n",
        "n_iters = 100000\n",
        "print_every = 5000\n",
        "plot_every = 1000\n",
        "learning_rate = 0.005\n",
        "\n",
        "# Keep track of losses for plotting\n",
        "current_loss = 0\n",
        "all_losses = []\n",
        "\n",
        "# Define function to train and evaluate the model\n",
        "def train(category_tensor, line_tensor):\n",
        "    hidden = rnn.initHidden()\n",
        "    rnn.zero_grad()\n",
        "\n",
        "    for i in range(line_tensor.size()[0]):\n",
        "        output, hidden = rnn(line_tensor[i], hidden)\n",
        "\n",
        "    loss = criterion(output, category_tensor)\n",
        "    loss.backward()\n",
        "\n",
        "    for p in rnn.parameters():\n",
        "        p.data.add_(p.grad.data, alpha=-learning_rate)\n",
        "\n",
        "    return output, loss.item()\n",
        "\n",
        "# Function to evaluate accuracy on test set\n",
        "def evaluate():\n",
        "    rnn.eval()\n",
        "    correct = 0\n",
        "    total = len(X_test)\n",
        "    with torch.no_grad():\n",
        "        for i in range(total):\n",
        "            line = X_test[i]\n",
        "            category = y_test[i]\n",
        "            category_tensor = torch.tensor([all_categories.index(category)], dtype=torch.long)\n",
        "            line_tensor = lineToTensor(line)\n",
        "\n",
        "            hidden = rnn.initHidden()\n",
        "            for j in range(line_tensor.size()[0]):\n",
        "                output, hidden = rnn(line_tensor[j], hidden)\n",
        "\n",
        "            guess, guess_i = categoryFromOutput(output)\n",
        "            if guess == category:\n",
        "                correct += 1\n",
        "    return correct / total\n",
        "\n",
        "# Time helper function\n",
        "def timeSince(since):\n",
        "    now = time.time()\n",
        "    s = now - since\n",
        "    m = math.floor(s / 60)\n",
        "    s -= m * 60\n",
        "    return '%dm %ds' % (m, s)\n",
        "\n",
        "# Start training with the defined hidden size\n",
        "start = time.time()\n",
        "\n",
        "# Initialize RNN with the new hidden size\n",
        "rnn = RNN(n_letters, n_hidden, n_categories)\n",
        "\n",
        "for iter in range(1, n_iters + 1):\n",
        "    category, line, category_tensor, line_tensor = randomTrainingExample()\n",
        "    output, loss = train(category_tensor, line_tensor)\n",
        "    current_loss += loss\n",
        "\n",
        "    # Print progress\n",
        "    if iter % print_every == 0:\n",
        "        guess, guess_i = categoryFromOutput(output)\n",
        "        correct = '✓' if guess == category else '✗ (%s)' % category\n",
        "        test_accuracy = evaluate()\n",
        "        print(f'{iter} {iter / n_iters * 100:.2f}% ({timeSince(start)}) Loss: {loss:.4f} | Test Accuracy: {test_accuracy * 100:.2f}% | {line} / {guess} {correct}')\n",
        "\n",
        "    # Plot losses\n",
        "    if iter % plot_every == 0:\n",
        "        all_losses.append(current_loss / plot_every)\n",
        "        current_loss = 0\n",
        "\n",
        "# Total training time\n",
        "total_time = time.time() - start\n",
        "print(f\"Training time with {n_hidden} hidden units: {total_time:.2f} seconds\")\n"
      ],
      "metadata": {
        "colab": {
          "base_uri": "https://localhost:8080/"
        },
        "id": "gi9xfH-XM7CZ",
        "outputId": "d12c49bd-254a-4dcf-af21-2e1bcd53ed50"
      },
      "execution_count": 36,
      "outputs": [
        {
          "output_type": "stream",
          "name": "stdout",
          "text": [
            "5000 5.00% (0m 14s) Loss: 0.0964 | Test Accuracy: 63.59% | Zaslavsky / Russian ✓\n",
            "10000 10.00% (0m 30s) Loss: 0.1652 | Test Accuracy: 65.11% | Zhovtyak / Russian ✓\n",
            "15000 15.00% (0m 44s) Loss: 0.0863 | Test Accuracy: 68.59% | Nezhlukto / Russian ✓\n",
            "20000 20.00% (0m 58s) Loss: 2.8927 | Test Accuracy: 71.16% | Gammer / Arabic ✗ (English)\n",
            "25000 25.00% (1m 12s) Loss: 0.0083 | Test Accuracy: 71.08% | Yakushkin / Russian ✓\n",
            "30000 30.00% (1m 27s) Loss: 0.0089 | Test Accuracy: 71.11% | Jafarov / Russian ✓\n",
            "35000 35.00% (1m 42s) Loss: 0.0287 | Test Accuracy: 72.18% | Abramtchuk / Russian ✓\n",
            "40000 40.00% (1m 56s) Loss: 0.9096 | Test Accuracy: 68.04% | VanPuteren / English ✗ (Russian)\n",
            "45000 45.00% (2m 15s) Loss: 0.3954 | Test Accuracy: 72.78% | Mihlin / Russian ✓\n",
            "50000 50.00% (2m 29s) Loss: 0.1025 | Test Accuracy: 73.25% | Mohosoev / Russian ✓\n",
            "55000 55.00% (2m 43s) Loss: 0.0002 | Test Accuracy: 71.01% | Jdankov / Russian ✓\n",
            "60000 60.00% (2m 57s) Loss: 1.1110 | Test Accuracy: 72.73% | Maynard / Arabic ✗ (English)\n",
            "65000 65.00% (3m 11s) Loss: 0.0122 | Test Accuracy: 71.48% | Vanyushin / Russian ✓\n",
            "70000 70.00% (3m 27s) Loss: 0.0001 | Test Accuracy: 74.02% | Zheltouhov / Russian ✓\n",
            "75000 75.00% (3m 42s) Loss: 2.4207 | Test Accuracy: 75.02% | Knef / Chinese ✗ (German)\n",
            "80000 80.00% (3m 56s) Loss: 0.0017 | Test Accuracy: 74.47% | Tzelovalnov / Russian ✓\n",
            "85000 85.00% (4m 10s) Loss: 3.8901 | Test Accuracy: 74.62% | Homa / Arabic ✗ (Russian)\n",
            "90000 90.00% (4m 25s) Loss: 0.9944 | Test Accuracy: 74.52% | Guan / Chinese ✓\n",
            "95000 95.00% (4m 38s) Loss: 0.1365 | Test Accuracy: 74.27% | Dubik / Russian ✓\n",
            "100000 100.00% (4m 52s) Loss: 0.0059 | Test Accuracy: 71.18% | Yoshikawa / Japanese ✓\n",
            "Training time with 256 hidden units: 292.67 seconds\n"
          ]
        }
      ]
    },
    {
      "cell_type": "code",
      "source": [
        "# Set parameters\n",
        "n_hidden = 64  # Half of 128\n",
        "n_iters = 100000\n",
        "print_every = 5000\n",
        "plot_every = 1000\n",
        "learning_rate = 0.005\n",
        "\n",
        "# Keep track of losses for plotting\n",
        "current_loss = 0\n",
        "all_losses = []\n",
        "\n",
        "# Define function to train and evaluate the model\n",
        "def train(category_tensor, line_tensor):\n",
        "    hidden = rnn.initHidden()\n",
        "    rnn.zero_grad()\n",
        "\n",
        "    for i in range(line_tensor.size()[0]):\n",
        "        output, hidden = rnn(line_tensor[i], hidden)\n",
        "\n",
        "    loss = criterion(output, category_tensor)\n",
        "    loss.backward()\n",
        "\n",
        "    for p in rnn.parameters():\n",
        "        p.data.add_(p.grad.data, alpha=-learning_rate)\n",
        "\n",
        "    return output, loss.item()\n",
        "\n",
        "# Function to evaluate accuracy on test set\n",
        "def evaluate():\n",
        "    rnn.eval()\n",
        "    correct = 0\n",
        "    total = len(X_test)\n",
        "    with torch.no_grad():\n",
        "        for i in range(total):\n",
        "            line = X_test[i]\n",
        "            category = y_test[i]\n",
        "            category_tensor = torch.tensor([all_categories.index(category)], dtype=torch.long)\n",
        "            line_tensor = lineToTensor(line)\n",
        "\n",
        "            hidden = rnn.initHidden()\n",
        "            for j in range(line_tensor.size()[0]):\n",
        "                output, hidden = rnn(line_tensor[j], hidden)\n",
        "\n",
        "            guess, guess_i = categoryFromOutput(output)\n",
        "            if guess == category:\n",
        "                correct += 1\n",
        "    return correct / total\n",
        "\n",
        "# Time helper function\n",
        "def timeSince(since):\n",
        "    now = time.time()\n",
        "    s = now - since\n",
        "    m = math.floor(s / 60)\n",
        "    s -= m * 60\n",
        "    return '%dm %ds' % (m, s)\n",
        "\n",
        "# Start training with the defined hidden size\n",
        "start = time.time()\n",
        "\n",
        "# Initialize RNN with the new hidden size\n",
        "rnn = RNN(n_letters, n_hidden, n_categories)\n",
        "\n",
        "for iter in range(1, n_iters + 1):\n",
        "    category, line, category_tensor, line_tensor = randomTrainingExample()\n",
        "    output, loss = train(category_tensor, line_tensor)\n",
        "    current_loss += loss\n",
        "\n",
        "    # Print progress\n",
        "    if iter % print_every == 0:\n",
        "        guess, guess_i = categoryFromOutput(output)\n",
        "        correct = '✓' if guess == category else '✗ (%s)' % category\n",
        "        test_accuracy = evaluate()\n",
        "        print(f'{iter} {iter / n_iters * 100:.2f}% ({timeSince(start)}) Loss: {loss:.4f} | Test Accuracy: {test_accuracy * 100:.2f}% | {line} / {guess} {correct}')\n",
        "\n",
        "    # Plot losses\n",
        "    if iter % plot_every == 0:\n",
        "        all_losses.append(current_loss / plot_every)\n",
        "        current_loss = 0\n",
        "\n",
        "# Total training time\n",
        "total_time = time.time() - start\n",
        "print(f\"Training time with {n_hidden} hidden units: {total_time:.2f} seconds\")"
      ],
      "metadata": {
        "colab": {
          "base_uri": "https://localhost:8080/"
        },
        "id": "pujJ63Ofq2Rw",
        "outputId": "7b89ca40-d00e-496b-dffc-c3224e8cdd21"
      },
      "execution_count": 37,
      "outputs": [
        {
          "output_type": "stream",
          "name": "stdout",
          "text": [
            "5000 5.00% (0m 11s) Loss: 1.3876 | Test Accuracy: 56.19% | Elven / Russian ✗ (English)\n",
            "10000 10.00% (0m 22s) Loss: 0.0217 | Test Accuracy: 59.48% | Pechatkin / Russian ✓\n",
            "15000 15.00% (0m 34s) Loss: 0.6410 | Test Accuracy: 68.17% | Kumasaka / Japanese ✓\n",
            "20000 20.00% (0m 47s) Loss: 0.5448 | Test Accuracy: 67.07% | Jakush / Russian ✓\n",
            "25000 25.00% (1m 1s) Loss: 0.4399 | Test Accuracy: 70.56% | Alford / English ✓\n",
            "30000 30.00% (1m 14s) Loss: 1.3042 | Test Accuracy: 68.89% | Handal / English ✗ (Arabic)\n",
            "35000 35.00% (1m 26s) Loss: 0.4850 | Test Accuracy: 70.73% | Koury / Arabic ✓\n",
            "40000 40.00% (1m 38s) Loss: 0.5967 | Test Accuracy: 71.43% | Arian / Arabic ✓\n",
            "45000 45.00% (1m 50s) Loss: 0.0092 | Test Accuracy: 72.60% | Tzalykhin / Russian ✓\n",
            "50000 50.00% (2m 2s) Loss: 0.1429 | Test Accuracy: 73.45% | Hudik / Russian ✓\n",
            "55000 55.00% (2m 16s) Loss: 1.6039 | Test Accuracy: 74.40% | Ventura / Italian ✓\n",
            "60000 60.00% (2m 31s) Loss: 0.0912 | Test Accuracy: 73.08% | Kalinovich / Russian ✓\n",
            "65000 65.00% (2m 42s) Loss: 0.9093 | Test Accuracy: 72.00% | Elkington / Russian ✗ (English)\n",
            "70000 70.00% (2m 52s) Loss: 0.0680 | Test Accuracy: 74.00% | Joltovsky / Russian ✓\n",
            "75000 75.00% (3m 3s) Loss: 0.0056 | Test Accuracy: 74.97% | Agamirov / Russian ✓\n",
            "80000 80.00% (3m 15s) Loss: 0.0114 | Test Accuracy: 74.25% | Mikhnenko / Russian ✓\n",
            "85000 85.00% (3m 26s) Loss: 0.5624 | Test Accuracy: 74.45% | Boutros / Arabic ✓\n",
            "90000 90.00% (3m 38s) Loss: 0.0263 | Test Accuracy: 75.49% | Shalhoub / Arabic ✓\n",
            "95000 95.00% (3m 50s) Loss: 0.2202 | Test Accuracy: 76.59% | Noguchi / Japanese ✓\n",
            "100000 100.00% (4m 2s) Loss: 0.0098 | Test Accuracy: 76.41% | Mintskovsky / Russian ✓\n",
            "Training time with 64 hidden units: 242.42 seconds\n"
          ]
        }
      ]
    },
    {
      "cell_type": "markdown",
      "source": [
        "The hidden layer size comparison is:\n",
        "\n",
        "- 64: reaches ~76 percent accuracy\n",
        "- 128: reaches ~77 percent accuracy\n",
        "- 256: reaches ~74 percent accuracy\n",
        "- 512: reaches ~72 percent accuracy\n",
        "\n",
        "From all the tests it seems tha 128 hidden layer size was the bets approach, all the other multiple for chunks calculation, result in a worse accuracy. This means that an optimal size must be around 128."
      ],
      "metadata": {
        "id": "wKFXxkl4tORs"
      }
    },
    {
      "cell_type": "markdown",
      "source": [
        "**d\\)**"
      ],
      "metadata": {
        "id": "iPlRZ4j2sBwz"
      }
    },
    {
      "cell_type": "code",
      "source": [
        "import torch\n",
        "import torch.nn as nn\n",
        "import torch.nn.functional as F\n",
        "\n",
        "# LSTM Model\n",
        "class LSTM_Model(nn.Module):\n",
        "    def __init__(self, input_size, hidden_size, output_size):\n",
        "        super(LSTM_Model, self).__init__()\n",
        "\n",
        "        self.hidden_size = hidden_size\n",
        "\n",
        "        # LSTM layer\n",
        "        self.lstm = nn.LSTM(input_size, hidden_size)\n",
        "\n",
        "        # Output layer\n",
        "        self.h2o = nn.Linear(hidden_size, output_size)\n",
        "        self.softmax = nn.LogSoftmax(dim=1)\n",
        "\n",
        "    def forward(self, input, hidden):\n",
        "        out, (hidden, cell) = self.lstm(input.view(1, 1, -1), hidden)\n",
        "        output = self.h2o(out.view(1, -1))\n",
        "        output = self.softmax(output)\n",
        "        return output, (hidden, cell)\n",
        "\n",
        "    def initHidden(self):\n",
        "        # Initialize hidden and cell state as zeros for LSTM\n",
        "        return (torch.zeros(1, 1, self.hidden_size), torch.zeros(1, 1, self.hidden_size))\n",
        "\n",
        "\n",
        "# GRU Model\n",
        "class GRU_Model(nn.Module):\n",
        "    def __init__(self, input_size, hidden_size, output_size):\n",
        "        super(GRU_Model, self).__init__()\n",
        "\n",
        "        self.hidden_size = hidden_size\n",
        "\n",
        "        # GRU layer\n",
        "        self.gru = nn.GRU(input_size, hidden_size)\n",
        "\n",
        "        # Output layer\n",
        "        self.h2o = nn.Linear(hidden_size, output_size)\n",
        "        self.softmax = nn.LogSoftmax(dim=1)\n",
        "\n",
        "    def forward(self, input, hidden):\n",
        "        out, hidden = self.gru(input.view(1, 1, -1), hidden)\n",
        "        output = self.h2o(out.view(1, -1))\n",
        "        output = self.softmax(output)\n",
        "        return output, hidden\n",
        "\n",
        "    def initHidden(self):\n",
        "        # Initialize hidden state as zeros for GRU\n",
        "        return torch.zeros(1, 1, self.hidden_size)\n"
      ],
      "metadata": {
        "id": "9ONxMuZRsAqp"
      },
      "execution_count": 42,
      "outputs": []
    },
    {
      "cell_type": "code",
      "source": [
        "import time\n",
        "import math\n",
        "import torch\n",
        "import random\n",
        "import string\n",
        "\n",
        "# Function to evaluate accuracy on test set\n",
        "def evaluate(rnn, X_test, y_test, all_categories):\n",
        "    rnn.eval()\n",
        "    correct = 0\n",
        "    total = len(X_test)\n",
        "    with torch.no_grad():\n",
        "        for i in range(total):\n",
        "            line = X_test[i]\n",
        "            category = y_test[i]\n",
        "            category_tensor = torch.tensor([all_categories.index(category)], dtype=torch.long)\n",
        "            line_tensor = lineToTensor(line)\n",
        "\n",
        "            hidden = rnn.initHidden()\n",
        "            for j in range(line_tensor.size()[0]):\n",
        "                output, hidden = rnn(line_tensor[j], hidden)\n",
        "\n",
        "            guess, guess_i = categoryFromOutput(output)\n",
        "            if guess == category:\n",
        "                correct += 1\n",
        "    return correct / total\n",
        "\n",
        "# Time helper function\n",
        "def timeSince(since):\n",
        "    now = time.time()\n",
        "    s = now - since\n",
        "    m = math.floor(s / 60)\n",
        "    s -= m * 60\n",
        "    return '%dm %ds' % (m, s)\n",
        "\n",
        "# Set parameters\n",
        "n_iters = 100000\n",
        "print_every = 5000\n",
        "plot_every = 1000\n",
        "learning_rate = 0.005\n",
        "\n",
        "# Training function\n",
        "def train(rnn, category_tensor, line_tensor, criterion):\n",
        "    hidden = rnn.initHidden()\n",
        "    rnn.zero_grad()\n",
        "\n",
        "    for i in range(line_tensor.size()[0]):\n",
        "        output, hidden = rnn(line_tensor[i], hidden)\n",
        "\n",
        "    loss = criterion(output, category_tensor)\n",
        "    loss.backward()\n",
        "\n",
        "    for p in rnn.parameters():\n",
        "        p.data.add_(p.grad.data, alpha=-learning_rate)\n",
        "\n",
        "    return output, loss.item()\n",
        "\n",
        "# Main training loop\n",
        "def train_and_evaluate_with_model(rnn, n_iters, print_every, plot_every, criterion, X_test, y_test, all_categories):\n",
        "    start = time.time()\n",
        "    current_loss = 0\n",
        "    all_losses = []\n",
        "\n",
        "    for iter in range(1, n_iters + 1):\n",
        "        category, line, category_tensor, line_tensor = randomTrainingExample()  # Define this function\n",
        "        output, loss = train(rnn, category_tensor, line_tensor, criterion)\n",
        "        current_loss += loss\n",
        "\n",
        "        # Print progress\n",
        "        if iter % print_every == 0:\n",
        "            guess, guess_i = categoryFromOutput(output)\n",
        "            correct = '✓' if guess == category else '✗ (%s)' % category\n",
        "            test_accuracy = evaluate(rnn, X_test, y_test, all_categories)\n",
        "            print(f'{iter} {iter / n_iters * 100:.2f}% ({timeSince(start)}) Loss: {loss:.4f} | Test Accuracy: {test_accuracy * 100:.2f}% | {line} / {guess} {correct}')\n",
        "\n",
        "        # Plot losses\n",
        "        if iter % plot_every == 0:\n",
        "            all_losses.append(current_loss / plot_every)\n",
        "            current_loss = 0\n",
        "\n",
        "# Initialize models and evaluate\n",
        "def run_model_evaluation():\n",
        "    # Use CPU device\n",
        "    device = torch.device(\"cpu\")\n",
        "    print(f\"Training on {device}\")\n",
        "\n",
        "    # Initialize the models (LSTM and GRU) and define the loss function\n",
        "    criterion = nn.NLLLoss()\n",
        "\n",
        "    # LSTM\n",
        "    lstm_model = LSTM_Model(n_letters, 256, n_categories).to(device)\n",
        "    print(\"Training LSTM Model...\")\n",
        "    train_and_evaluate_with_model(lstm_model, n_iters, print_every, plot_every, criterion, X_test, y_test, all_categories)\n",
        "\n",
        "    # GRU\n",
        "    gru_model = GRU_Model(n_letters, 256, n_categories).to(device)\n",
        "    print(\"\\nTraining GRU Model...\")\n",
        "    train_and_evaluate_with_model(gru_model, n_iters, print_every, plot_every, criterion, X_test, y_test, all_categories)\n",
        "\n",
        "# Start model evaluation\n",
        "run_model_evaluation()\n",
        "\n"
      ],
      "metadata": {
        "colab": {
          "base_uri": "https://localhost:8080/"
        },
        "id": "YmYE8Pywx66n",
        "outputId": "b2603546-2336-4535-e6eb-f7238863f81e"
      },
      "execution_count": 44,
      "outputs": [
        {
          "output_type": "stream",
          "name": "stdout",
          "text": [
            "Training on cpu\n",
            "Training LSTM Model...\n",
            "5000 5.00% (1m 12s) Loss: 0.7635 | Test Accuracy: 46.92% | Poretsky / Russian ✓\n",
            "10000 10.00% (2m 22s) Loss: 0.4476 | Test Accuracy: 50.59% | Isachenko / Russian ✓\n",
            "15000 15.00% (3m 35s) Loss: 2.8927 | Test Accuracy: 52.40% | Por / English ✗ (Russian)\n",
            "20000 20.00% (4m 46s) Loss: 4.7764 | Test Accuracy: 58.53% | Mckay / Russian ✗ (Scottish)\n",
            "25000 25.00% (5m 58s) Loss: 1.0788 | Test Accuracy: 59.58% | Nahas / Arabic ✓\n",
            "30000 30.00% (7m 11s) Loss: 3.5862 | Test Accuracy: 59.80% | Foss / Arabic ✗ (French)\n",
            "35000 35.00% (8m 25s) Loss: 3.9018 | Test Accuracy: 60.85% | Manos / Arabic ✗ (Greek)\n",
            "40000 40.00% (9m 36s) Loss: 4.0898 | Test Accuracy: 61.87% | Durante / English ✗ (Spanish)\n",
            "45000 45.00% (10m 50s) Loss: 0.7107 | Test Accuracy: 62.89% | Amari / Arabic ✓\n",
            "50000 50.00% (12m 0s) Loss: 0.0004 | Test Accuracy: 63.14% | Abubekerov / Russian ✓\n",
            "55000 55.00% (13m 12s) Loss: 2.8080 | Test Accuracy: 65.85% | Janca / English ✗ (Czech)\n",
            "60000 60.00% (14m 24s) Loss: 0.0265 | Test Accuracy: 67.80% | Varakin / Russian ✓\n",
            "65000 65.00% (15m 36s) Loss: 0.0129 | Test Accuracy: 64.66% | Schepelev / Russian ✓\n",
            "70000 70.00% (16m 48s) Loss: 3.4185 | Test Accuracy: 68.14% | Por / English ✗ (Russian)\n",
            "75000 75.00% (18m 0s) Loss: 0.0075 | Test Accuracy: 69.19% | Yakovkin / Russian ✓\n",
            "80000 80.00% (19m 13s) Loss: 0.1572 | Test Accuracy: 69.44% | Mimasuya / Japanese ✓\n",
            "85000 85.00% (20m 25s) Loss: 0.1750 | Test Accuracy: 69.94% | Anderton / English ✓\n",
            "90000 90.00% (21m 37s) Loss: 0.0198 | Test Accuracy: 69.29% | Pribylovsky / Russian ✓\n",
            "95000 95.00% (22m 52s) Loss: 0.5388 | Test Accuracy: 71.66% | Mustafa / Arabic ✓\n",
            "100000 100.00% (24m 4s) Loss: 0.0077 | Test Accuracy: 71.03% | Desyatov / Russian ✓\n",
            "\n",
            "Training GRU Model...\n",
            "5000 5.00% (0m 37s) Loss: 4.0684 | Test Accuracy: 49.07% | Close / English ✗ (Greek)\n",
            "10000 10.00% (1m 15s) Loss: 0.1027 | Test Accuracy: 55.32% | Pochuev / Russian ✓\n",
            "15000 15.00% (1m 54s) Loss: 0.9241 | Test Accuracy: 57.86% | Burt / English ✓\n",
            "20000 20.00% (2m 31s) Loss: 0.8448 | Test Accuracy: 61.32% | Simmons / English ✓\n",
            "25000 25.00% (3m 9s) Loss: 1.2646 | Test Accuracy: 63.44% | Tahan / Arabic ✓\n",
            "30000 30.00% (3m 46s) Loss: 3.3913 | Test Accuracy: 65.45% | Petit / English ✗ (French)\n",
            "35000 35.00% (4m 23s) Loss: 1.4445 | Test Accuracy: 67.42% | Onohara / Arabic ✗ (Japanese)\n",
            "40000 40.00% (5m 1s) Loss: 3.2339 | Test Accuracy: 68.52% | Katz / Arabic ✗ (German)\n",
            "45000 45.00% (5m 39s) Loss: 0.5930 | Test Accuracy: 67.47% | Ronchi / Italian ✓\n",
            "50000 50.00% (6m 19s) Loss: 0.1044 | Test Accuracy: 69.14% | Yuditsky / Russian ✓\n",
            "55000 55.00% (6m 56s) Loss: 0.0088 | Test Accuracy: 69.14% | Bahovkin / Russian ✓\n",
            "60000 60.00% (7m 33s) Loss: 1.2166 | Test Accuracy: 70.44% | Birich / English ✗ (Russian)\n",
            "65000 65.00% (8m 10s) Loss: 1.7114 | Test Accuracy: 69.64% | Derich / English ✗ (Russian)\n",
            "70000 70.00% (8m 49s) Loss: 0.0007 | Test Accuracy: 71.03% | Mukovozov / Russian ✓\n",
            "75000 75.00% (9m 26s) Loss: 0.0038 | Test Accuracy: 71.93% | Fisichev / Russian ✓\n",
            "80000 80.00% (10m 3s) Loss: 0.2023 | Test Accuracy: 68.69% | Pelih / Russian ✓\n",
            "85000 85.00% (10m 41s) Loss: 0.6399 | Test Accuracy: 70.98% | Sewell / English ✓\n",
            "90000 90.00% (11m 20s) Loss: 0.0181 | Test Accuracy: 72.83% | Momotov / Russian ✓\n",
            "95000 95.00% (11m 57s) Loss: 0.0135 | Test Accuracy: 72.75% | Mojaev / Russian ✓\n",
            "100000 100.00% (12m 37s) Loss: 0.5798 | Test Accuracy: 71.83% | Rembeza / Russian ✓\n"
          ]
        }
      ]
    },
    {
      "cell_type": "markdown",
      "source": [
        "The use of a LSTM or GRU Model show a constant increase of model performance in comparison with evaluation of RNN. But the RNN model still perfoms better than both of these alternatives, this might relay on HyperparameterTuning, or on the case of the data base not being large enough.\n"
      ],
      "metadata": {
        "id": "FLpAZXRe0I_i"
      }
    },
    {
      "cell_type": "markdown",
      "source": [
        "**e\\)**"
      ],
      "metadata": {
        "id": "5v8hNEj6sEv8"
      }
    },
    {
      "cell_type": "code",
      "source": [
        "# Force everything to run on CPU\n",
        "device = torch.device(\"cpu\")\n",
        "print(f\"Using device: {device}\")\n",
        "\n",
        "# Training function for a specific optimizer\n",
        "def train_with_optimizer(optimizer, category_tensor, line_tensor):\n",
        "    hidden = rnn.initHidden().to(device)  # Ensure hidden is on CPU\n",
        "    rnn.zero_grad()\n",
        "\n",
        "    for i in range(line_tensor.size()[0]):\n",
        "        output, hidden = rnn(line_tensor[i], hidden)\n",
        "\n",
        "    loss = criterion(output, category_tensor)\n",
        "    loss.backward()\n",
        "    optimizer.step()  # Update model parameters\n",
        "    return output, loss.item()\n",
        "\n",
        "# Function to train and evaluate the model using different optimizers\n",
        "def run_training_and_evaluation():\n",
        "    optimizer_classes = {\n",
        "        'SGD': torch.optim.SGD,\n",
        "        'Adam': torch.optim.Adam,\n",
        "        'RMSprop': torch.optim.RMSprop\n",
        "    }\n",
        "\n",
        "    for optimizer_name, optimizer_class in optimizer_classes.items():\n",
        "        print(f\"\\nTraining with {optimizer_name} optimizer...\")\n",
        "\n",
        "        # Initialize the model and optimizer\n",
        "        rnn = RNN(n_letters, 128, n_categories).to(device)  # Hidden layer size of 128, model moved to CPU\n",
        "        optimizer = optimizer_class(rnn.parameters(), lr=learning_rate)\n",
        "\n",
        "        # Start training\n",
        "        start = time.time()\n",
        "        current_loss = 0\n",
        "        all_losses = []\n",
        "\n",
        "        for iter in range(1, n_iters + 1):\n",
        "            category, line, category_tensor, line_tensor = randomTrainingExample()\n",
        "            category_tensor = category_tensor.to(device)  # Move to CPU\n",
        "            line_tensor = line_tensor.to(device)  # Move to CPU\n",
        "            output, loss = train_with_optimizer(optimizer, category_tensor, line_tensor)\n",
        "            current_loss += loss\n",
        "\n",
        "            # Print progress\n",
        "            if iter % print_every == 0:\n",
        "                guess, guess_i = categoryFromOutput(output)\n",
        "                correct = '✓' if guess == category else '✗ (%s)' % category\n",
        "                test_accuracy = evaluate(rnn)  # Ensure evaluate uses the correct rnn\n",
        "                print(f'{iter} {iter / n_iters * 100:.2f}% ({timeSince(start)}) Loss: {loss:.4f} | '\n",
        "                      f'Test Accuracy: {test_accuracy * 100:.2f}% | {line} / {guess} {correct}')\n",
        "\n",
        "            # Plot losses\n",
        "            if iter % plot_every == 0:\n",
        "                all_losses.append(current_loss / plot_every)\n",
        "                current_loss = 0\n",
        "\n",
        "        total_time = time.time() - start\n",
        "        print(f\"Training time with {optimizer_name}: {total_time:.2f} seconds\\n\")\n",
        "\n",
        "# Ensure evaluate() works with the provided rnn\n",
        "def evaluate(rnn):\n",
        "    rnn.eval()\n",
        "    correct = 0\n",
        "    total = len(X_test)\n",
        "    with torch.no_grad():\n",
        "        for i in range(total):\n",
        "            line = X_test[i]\n",
        "            category = y_test[i]\n",
        "            category_tensor = torch.tensor([all_categories.index(category)], dtype=torch.long).to(device)\n",
        "            line_tensor = lineToTensor(line).to(device)\n",
        "\n",
        "            hidden = rnn.initHidden().to(device)\n",
        "            for j in range(line_tensor.size()[0]):\n",
        "                output, hidden = rnn(line_tensor[j], hidden)\n",
        "\n",
        "            guess, guess_i = categoryFromOutput(output)\n",
        "            if guess == category:\n",
        "                correct += 1\n",
        "    return correct / total\n",
        "\n",
        "# Call the function to run training and evaluation for all optimizers\n",
        "run_training_and_evaluation()\n",
        "\n",
        "\n"
      ],
      "metadata": {
        "colab": {
          "base_uri": "https://localhost:8080/"
        },
        "id": "YvEuwRpC3ezh",
        "outputId": "1ace5e65-d628-4f0a-88e0-05e114a1fb4e"
      },
      "execution_count": 50,
      "outputs": [
        {
          "output_type": "stream",
          "name": "stdout",
          "text": [
            "Using device: cpu\n",
            "\n",
            "Training with SGD optimizer...\n",
            "5000 5.00% (0m 25s) Loss: 0.7136 | Test Accuracy: 8.00% | Kempster / English ✓\n",
            "10000 10.00% (0m 49s) Loss: 0.8980 | Test Accuracy: 8.00% | Shinko / Russian ✗ (Japanese)\n",
            "15000 15.00% (1m 14s) Loss: 0.0083 | Test Accuracy: 8.00% | Serejnikov / Russian ✓\n",
            "20000 20.00% (1m 39s) Loss: 0.0090 | Test Accuracy: 8.00% | Agaloff / Russian ✓\n",
            "25000 25.00% (2m 5s) Loss: 1.9954 | Test Accuracy: 8.00% | Li / Italian ✗ (Russian)\n",
            "30000 30.00% (2m 30s) Loss: 0.4354 | Test Accuracy: 8.00% | Watanabe / Japanese ✓\n",
            "35000 35.00% (2m 55s) Loss: 0.0027 | Test Accuracy: 8.00% | Marhanov / Russian ✓\n",
            "40000 40.00% (3m 19s) Loss: 0.0706 | Test Accuracy: 8.00% | Hamraev / Russian ✓\n",
            "45000 45.00% (3m 43s) Loss: 1.6406 | Test Accuracy: 8.00% | Lagomarsino / Japanese ✗ (Italian)\n",
            "50000 50.00% (4m 8s) Loss: 0.6394 | Test Accuracy: 8.00% | Astbury / English ✓\n",
            "55000 55.00% (4m 32s) Loss: 0.2316 | Test Accuracy: 8.00% | Ganim / Arabic ✓\n",
            "60000 60.00% (4m 57s) Loss: 2.4075 | Test Accuracy: 8.00% | Brivio / Russian ✗ (Italian)\n",
            "65000 65.00% (5m 23s) Loss: 1.9933 | Test Accuracy: 8.00% | Altimari / Japanese ✗ (Italian)\n",
            "70000 70.00% (5m 50s) Loss: 0.0736 | Test Accuracy: 8.00% | Said / Arabic ✓\n",
            "75000 75.00% (6m 15s) Loss: 1.2293 | Test Accuracy: 8.00% | Fairchild / Russian ✗ (English)\n",
            "80000 80.00% (6m 41s) Loss: 0.4763 | Test Accuracy: 8.00% | Hotta / Japanese ✓\n",
            "85000 85.00% (7m 7s) Loss: 0.9165 | Test Accuracy: 8.00% | Mclean / English ✓\n",
            "90000 90.00% (7m 33s) Loss: 0.0445 | Test Accuracy: 8.00% | Zelensky / Russian ✓\n",
            "95000 95.00% (8m 0s) Loss: 3.9912 | Test Accuracy: 8.00% | Cuidightheach / Russian ✗ (Irish)\n",
            "100000 100.00% (8m 27s) Loss: 0.0004 | Test Accuracy: 8.00% | Paholkov / Russian ✓\n",
            "Training time with SGD: 507.55 seconds\n",
            "\n",
            "\n",
            "Training with Adam optimizer...\n",
            "5000 5.00% (0m 27s) Loss: 0.0044 | Test Accuracy: 2.47% | Nasretdinov / Russian ✓\n",
            "10000 10.00% (0m 53s) Loss: 0.3230 | Test Accuracy: 2.47% | Opova / Czech ✓\n",
            "15000 15.00% (1m 23s) Loss: 2.7338 | Test Accuracy: 2.47% | Brezovjak / Russian ✗ (Czech)\n",
            "20000 20.00% (1m 50s) Loss: 0.0019 | Test Accuracy: 2.47% | Baimakov / Russian ✓\n",
            "25000 25.00% (2m 17s) Loss: 0.7715 | Test Accuracy: 2.47% | Ghanem / Arabic ✓\n",
            "30000 30.00% (2m 43s) Loss: 0.0024 | Test Accuracy: 2.47% | Mlachnev / Russian ✓\n",
            "35000 35.00% (3m 11s) Loss: 0.0381 | Test Accuracy: 2.47% | Yakushkin / Russian ✓\n",
            "40000 40.00% (3m 36s) Loss: 1.2622 | Test Accuracy: 2.47% | Chieu / Chinese ✓\n",
            "45000 45.00% (4m 1s) Loss: 0.4072 | Test Accuracy: 2.47% | Chance / English ✓\n",
            "50000 50.00% (4m 26s) Loss: 0.6524 | Test Accuracy: 2.47% | Best / German ✓\n",
            "55000 55.00% (4m 50s) Loss: 0.0013 | Test Accuracy: 2.47% | Bajanov / Russian ✓\n",
            "60000 60.00% (5m 15s) Loss: 0.2155 | Test Accuracy: 2.47% | Cham / Arabic ✓\n",
            "65000 65.00% (5m 39s) Loss: 1.0346 | Test Accuracy: 2.47% | Animitsa / Japanese ✗ (Russian)\n",
            "70000 70.00% (6m 4s) Loss: 0.0448 | Test Accuracy: 2.47% | Zhurihin / Russian ✓\n",
            "75000 75.00% (6m 29s) Loss: 0.3877 | Test Accuracy: 2.47% | Badalbeili / Russian ✓\n",
            "80000 80.00% (6m 53s) Loss: 4.5467 | Test Accuracy: 2.47% | Esteves / English ✗ (Portuguese)\n",
            "85000 85.00% (7m 18s) Loss: 0.0026 | Test Accuracy: 2.47% | Rochegov / Russian ✓\n",
            "90000 90.00% (7m 42s) Loss: 0.0070 | Test Accuracy: 2.47% | Hasiev / Russian ✓\n",
            "95000 95.00% (8m 7s) Loss: 0.9939 | Test Accuracy: 2.47% | Malinowski / Polish ✓\n",
            "100000 100.00% (8m 32s) Loss: 0.1991 | Test Accuracy: 2.47% | Farrier / English ✓\n",
            "Training time with Adam: 512.33 seconds\n",
            "\n",
            "\n",
            "Training with RMSprop optimizer...\n",
            "5000 5.00% (0m 25s) Loss: 0.9843 | Test Accuracy: 0.67% | Ealham / English ✓\n",
            "10000 10.00% (0m 51s) Loss: 2.5782 | Test Accuracy: 0.67% | Wetterman / English ✗ (German)\n",
            "15000 15.00% (1m 17s) Loss: 0.1560 | Test Accuracy: 0.67% | Almasi / Arabic ✓\n",
            "20000 20.00% (1m 43s) Loss: 0.3143 | Test Accuracy: 0.67% | Arian / Arabic ✓\n",
            "25000 25.00% (2m 9s) Loss: 0.0809 | Test Accuracy: 0.67% | Bekhtin / Russian ✓\n",
            "30000 30.00% (2m 34s) Loss: 1.0611 | Test Accuracy: 0.67% | Zha / Chinese ✓\n",
            "35000 35.00% (3m 1s) Loss: 0.2337 | Test Accuracy: 0.67% | To The First Page / Russian ✓\n",
            "40000 40.00% (3m 27s) Loss: 0.7393 | Test Accuracy: 0.67% | Knowles / English ✓\n",
            "45000 45.00% (3m 53s) Loss: 4.6621 | Test Accuracy: 0.67% | Bischoffs / Russian ✗ (German)\n",
            "50000 50.00% (4m 19s) Loss: 0.0570 | Test Accuracy: 0.67% | Shahnarovich / Russian ✓\n",
            "55000 55.00% (4m 44s) Loss: 0.0033 | Test Accuracy: 0.67% | Averkov / Russian ✓\n",
            "60000 60.00% (5m 10s) Loss: 0.7429 | Test Accuracy: 0.67% | Fuchs / German ✓\n",
            "65000 65.00% (5m 35s) Loss: 0.0521 | Test Accuracy: 0.67% | Hloponin / Russian ✓\n",
            "70000 70.00% (6m 1s) Loss: 2.5845 | Test Accuracy: 0.67% | Mateu / Japanese ✗ (Spanish)\n",
            "75000 75.00% (6m 27s) Loss: 0.0021 | Test Accuracy: 0.67% | Bazarov / Russian ✓\n",
            "80000 80.00% (6m 53s) Loss: 0.7618 | Test Accuracy: 0.67% | Ciurlionis / Russian ✓\n",
            "85000 85.00% (7m 19s) Loss: 2.6177 | Test Accuracy: 0.67% | Bass / Arabic ✗ (Russian)\n",
            "90000 90.00% (7m 45s) Loss: 0.0012 | Test Accuracy: 0.67% | Bahtinov / Russian ✓\n",
            "95000 95.00% (8m 11s) Loss: 2.6531 | Test Accuracy: 0.67% | See / Chinese ✗ (Dutch)\n",
            "100000 100.00% (8m 39s) Loss: 1.6612 | Test Accuracy: 0.67% | Ott / English ✗ (Russian)\n",
            "Training time with RMSprop: 519.57 seconds\n",
            "\n"
          ]
        }
      ]
    },
    {
      "cell_type": "markdown",
      "source": [
        "The Model should have more confidence on the classification of the name, the longer the name is, as the model would have more data to process through the hidden layers, which results in more precise predictions.\n",
        "\n",
        "The network is generally more confident in correct classifications, as the probability for the correct class is higher, while in incorrect classifications, the confidence (probability) is usually lower.\n",
        "\n",
        "All the current optimizers are possible alternatives but there seems to be a problem at the moment of updating the model as the accuracy never changed during the whole evaluation, but must lay down on the code.\n",
        "\n",
        "According to Internet forums, adam should be the best optimizer compared to the other ones, while SDG is the most basic and the default one.\n",
        "\n"
      ],
      "metadata": {
        "id": "0G_VdNKiDxAu"
      }
    }
  ],
  "metadata": {
    "kernelspec": {
      "display_name": "Python 3",
      "name": "python3"
    },
    "language_info": {
      "codemirror_mode": {
        "name": "ipython",
        "version": 3
      },
      "file_extension": ".py",
      "mimetype": "text/x-python",
      "name": "python",
      "nbconvert_exporter": "python",
      "pygments_lexer": "ipython3",
      "version": "3.10.12"
    },
    "colab": {
      "provenance": [],
      "gpuType": "T4"
    },
    "accelerator": "GPU"
  },
  "nbformat": 4,
  "nbformat_minor": 0
}